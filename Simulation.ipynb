{
 "cells": [
  {
   "cell_type": "markdown",
   "metadata": {},
   "source": [
    "# Load Libraries & Setup"
   ]
  },
  {
   "cell_type": "code",
   "execution_count": 18,
   "metadata": {},
   "outputs": [],
   "source": [
    "import numpy as np\n",
    "import pandas as pd\n",
    "import matplotlib.pyplot as plt\n",
    "\n",
    "import FifaSimulationObjects as fso\n",
    "import FifaWorldCupSimulation as fwc\n",
    "\n",
    "num_replications = 1000\n",
    "wc_num_groups = 8\n",
    "\n",
    "#this list holds the final teams participating in the competition\n",
    "wc_finals_teams_names = ['South Korea','Japan','Saudi Arabia','Iran', 'Canada','United States', 'Mexico',\n",
    "        'Costa Rica','Serbia','Spain','Switzerland','France','Belgium','Denmark','Netherlands','Croatia','England','Germany','Portugal','Sweden','Italy','Ukraine','Wales',\n",
    "        'Turkey','Poland','Brazil','Argentina','Ecuador','Uruguay','Peru','Colombia','Chile','Senegal','Cameroon',\n",
    "        'Ghana','Morocco','Tunisia','Australia','New Zealand','Tahiti','Solomon Islands','Papua New Guinea']\n",
    "\n",
    "wc_finals_team_list = []\n",
    "\n",
    "#this list holds the groups and their teams\n",
    "wc_groups_list = []\n",
    "\n",
    "#this dataframe holds the results of the group stage\n",
    "wc_group_results_list =  {}\n",
    "\n",
    "#this dataframe holds the results of the final stage\n",
    "wc_results_lists = []\n"
   ]
  },
  {
   "cell_type": "code",
   "execution_count": 19,
   "metadata": {},
   "outputs": [],
   "source": [
    "def run_wc_simulation():\n",
    "    #simulating the draw\n",
    "    wc_groups_list = fwc.simulate_group_stage_draw(wc_num_groups,wc_finals_team_list)\n",
    "    #creating the ordered list of games as this will influence the results of the group stage \n",
    "    games_list = fwc.get_group_games(wc_groups_list)\n",
    "    #simulate the group stage from the groups of teams we already have\n",
    "    group_stage_results = fwc.simulate_group_stage(wc_groups_list,games_list)\n",
    "    #simulate the round of 16\n",
    "    r16_results = fwc.simulate_round16(games_list)\n",
    "    #simulate quarterfinals to get the game results\n",
    "    qf_results = fwc.simulate_quarterfinals(r16_results)\n",
    "    #simulate quarterfinals to get the 3rd place and fourth place\n",
    "    sf_result = fwc.simulate_semifinals(qf_results)\n",
    "    #simulate finals to get winner and runner up\n",
    "    final_result = fwc.simulate_finals(sf_result)\n",
    "    #return a result object that contains the winner, runner_up, third place, fourth place, quarterfinalists and R16 teams.\n",
    "    return fso.WorldcupFinalResults(final_result[0],final_result[1],sf_result[0],sf_result[1],fwc.get_bracket_winners(r16_results),fwc.get_group_qualified_teams(group_stage_results))\n",
    "\n",
    "def simulate(num_replications):\n",
    "    for i in range(num_replications):\n",
    "        res = run_wc_simulation()\n",
    "        wc_results_lists.append(res)"
   ]
  },
  {
   "cell_type": "code",
   "execution_count": 20,
   "metadata": {},
   "outputs": [
    {
     "ename": "TypeError",
     "evalue": "'float' object cannot be interpreted as an integer",
     "output_type": "error",
     "traceback": [
      "\u001b[0;31m---------------------------------------------------------------------------\u001b[0m",
      "\u001b[0;31mTypeError\u001b[0m                                 Traceback (most recent call last)",
      "\u001b[0;32m/var/folders/8m/32mdx6516gd3_96hfb027cd40000gn/T/ipykernel_32124/3751147083.py\u001b[0m in \u001b[0;36m<module>\u001b[0;34m\u001b[0m\n\u001b[0;32m----> 1\u001b[0;31m \u001b[0msimulate\u001b[0m\u001b[0;34m(\u001b[0m\u001b[0;36m1000\u001b[0m\u001b[0;34m)\u001b[0m\u001b[0;34m\u001b[0m\u001b[0;34m\u001b[0m\u001b[0m\n\u001b[0m\u001b[1;32m      2\u001b[0m \u001b[0;34m\u001b[0m\u001b[0m\n\u001b[1;32m      3\u001b[0m \u001b[0;31m#plot a histogram of winners of the WC\u001b[0m\u001b[0;34m\u001b[0m\u001b[0;34m\u001b[0m\u001b[0m\n\u001b[1;32m      4\u001b[0m \u001b[0mplt\u001b[0m\u001b[0;34m.\u001b[0m\u001b[0mhist\u001b[0m\u001b[0;34m(\u001b[0m\u001b[0mwc_results_lists\u001b[0m\u001b[0;34m.\u001b[0m\u001b[0mwinner\u001b[0m\u001b[0;34m.\u001b[0m\u001b[0mvalues\u001b[0m\u001b[0;34m,\u001b[0m \u001b[0mbins\u001b[0m\u001b[0;34m=\u001b[0m\u001b[0;36m20\u001b[0m\u001b[0;34m)\u001b[0m\u001b[0;34m\u001b[0m\u001b[0;34m\u001b[0m\u001b[0m\n",
      "\u001b[0;32m/var/folders/8m/32mdx6516gd3_96hfb027cd40000gn/T/ipykernel_32124/3716167801.py\u001b[0m in \u001b[0;36msimulate\u001b[0;34m(num_replications)\u001b[0m\n\u001b[1;32m     19\u001b[0m \u001b[0;32mdef\u001b[0m \u001b[0msimulate\u001b[0m\u001b[0;34m(\u001b[0m\u001b[0mnum_replications\u001b[0m\u001b[0;34m)\u001b[0m\u001b[0;34m:\u001b[0m\u001b[0;34m\u001b[0m\u001b[0;34m\u001b[0m\u001b[0m\n\u001b[1;32m     20\u001b[0m     \u001b[0;32mfor\u001b[0m \u001b[0mi\u001b[0m \u001b[0;32min\u001b[0m \u001b[0mrange\u001b[0m\u001b[0;34m(\u001b[0m\u001b[0mnum_replications\u001b[0m\u001b[0;34m)\u001b[0m\u001b[0;34m:\u001b[0m\u001b[0;34m\u001b[0m\u001b[0;34m\u001b[0m\u001b[0m\n\u001b[0;32m---> 21\u001b[0;31m         \u001b[0mres\u001b[0m \u001b[0;34m=\u001b[0m \u001b[0mrun_wc_simulation\u001b[0m\u001b[0;34m(\u001b[0m\u001b[0;34m)\u001b[0m\u001b[0;34m\u001b[0m\u001b[0;34m\u001b[0m\u001b[0m\n\u001b[0m\u001b[1;32m     22\u001b[0m         \u001b[0mwc_results_lists\u001b[0m\u001b[0;34m.\u001b[0m\u001b[0mappend\u001b[0m\u001b[0;34m(\u001b[0m\u001b[0mres\u001b[0m\u001b[0;34m)\u001b[0m\u001b[0;34m\u001b[0m\u001b[0;34m\u001b[0m\u001b[0m\n",
      "\u001b[0;32m/var/folders/8m/32mdx6516gd3_96hfb027cd40000gn/T/ipykernel_32124/3716167801.py\u001b[0m in \u001b[0;36mrun_wc_simulation\u001b[0;34m()\u001b[0m\n\u001b[1;32m      7\u001b[0m     \u001b[0mgroup_stage_results\u001b[0m \u001b[0;34m=\u001b[0m \u001b[0mfwc\u001b[0m\u001b[0;34m.\u001b[0m\u001b[0msimulate_group_stage\u001b[0m\u001b[0;34m(\u001b[0m\u001b[0mwc_groups_list\u001b[0m\u001b[0;34m,\u001b[0m\u001b[0mgames_list\u001b[0m\u001b[0;34m)\u001b[0m\u001b[0;34m\u001b[0m\u001b[0;34m\u001b[0m\u001b[0m\n\u001b[1;32m      8\u001b[0m     \u001b[0;31m#simulate the round of 16\u001b[0m\u001b[0;34m\u001b[0m\u001b[0;34m\u001b[0m\u001b[0m\n\u001b[0;32m----> 9\u001b[0;31m     \u001b[0mr16_results\u001b[0m \u001b[0;34m=\u001b[0m \u001b[0mfwc\u001b[0m\u001b[0;34m.\u001b[0m\u001b[0msimulate_round16\u001b[0m\u001b[0;34m(\u001b[0m\u001b[0mgames_list\u001b[0m\u001b[0;34m)\u001b[0m\u001b[0;34m\u001b[0m\u001b[0;34m\u001b[0m\u001b[0m\n\u001b[0m\u001b[1;32m     10\u001b[0m     \u001b[0;31m#simulate quarterfinals to get the game results\u001b[0m\u001b[0;34m\u001b[0m\u001b[0;34m\u001b[0m\u001b[0m\n\u001b[1;32m     11\u001b[0m     \u001b[0mqf_results\u001b[0m \u001b[0;34m=\u001b[0m \u001b[0mfwc\u001b[0m\u001b[0;34m.\u001b[0m\u001b[0msimulate_quarterfinals\u001b[0m\u001b[0;34m(\u001b[0m\u001b[0mr16_results\u001b[0m\u001b[0;34m)\u001b[0m\u001b[0;34m\u001b[0m\u001b[0;34m\u001b[0m\u001b[0m\n",
      "\u001b[0;32m~/Library/CloudStorage/OneDrive-UBC/Courses/P4/BAMS 503 - Monte Carlo Simualation - I/Fifa_2022_simulation/fifa_2022_simulation/FifaWorldCupSimulation.py\u001b[0m in \u001b[0;36msimulate_round16\u001b[0;34m(previous_stage_results)\u001b[0m\n\u001b[1;32m     80\u001b[0m \u001b[0;34m\u001b[0m\u001b[0m\n\u001b[1;32m     81\u001b[0m \u001b[0;32mdef\u001b[0m \u001b[0msimulate_round16\u001b[0m\u001b[0;34m(\u001b[0m\u001b[0mprevious_stage_results\u001b[0m\u001b[0;34m)\u001b[0m\u001b[0;34m:\u001b[0m\u001b[0;34m\u001b[0m\u001b[0;34m\u001b[0m\u001b[0m\n\u001b[0;32m---> 82\u001b[0;31m     \u001b[0mget_bracket_games\u001b[0m\u001b[0;34m(\u001b[0m\u001b[0mprevious_stage_results\u001b[0m\u001b[0;34m,\u001b[0m\u001b[0mgames\u001b[0m\u001b[0;34m=\u001b[0m\u001b[0;36m8\u001b[0m\u001b[0;34m)\u001b[0m\u001b[0;34m\u001b[0m\u001b[0;34m\u001b[0m\u001b[0m\n\u001b[0m\u001b[1;32m     83\u001b[0m     \u001b[0;31m#################################################################\u001b[0m\u001b[0;34m\u001b[0m\u001b[0;34m\u001b[0m\u001b[0m\n\u001b[1;32m     84\u001b[0m     \u001b[0;31m# Code block below needs to be changed.\u001b[0m\u001b[0;34m\u001b[0m\u001b[0;34m\u001b[0m\u001b[0m\n",
      "\u001b[0;32m~/Library/CloudStorage/OneDrive-UBC/Courses/P4/BAMS 503 - Monte Carlo Simualation - I/Fifa_2022_simulation/fifa_2022_simulation/FifaWorldCupSimulation.py\u001b[0m in \u001b[0;36mget_bracket_games\u001b[0;34m(group_stage_results, stage)\u001b[0m\n\u001b[1;32m     55\u001b[0m \u001b[0;32mdef\u001b[0m \u001b[0mget_bracket_games\u001b[0m\u001b[0;34m(\u001b[0m\u001b[0mgroup_stage_results\u001b[0m\u001b[0;34m,\u001b[0m\u001b[0mgames\u001b[0m\u001b[0;34m)\u001b[0m\u001b[0;34m:\u001b[0m\u001b[0;34m\u001b[0m\u001b[0;34m\u001b[0m\u001b[0m\n\u001b[1;32m     56\u001b[0m     \u001b[0mbracket_matches_list\u001b[0m \u001b[0;34m=\u001b[0m \u001b[0;34m[\u001b[0m\u001b[0;34m]\u001b[0m\u001b[0;34m\u001b[0m\u001b[0;34m\u001b[0m\u001b[0m\n\u001b[0;32m---> 57\u001b[0;31m     \u001b[0;32mfor\u001b[0m \u001b[0mi\u001b[0m \u001b[0;32min\u001b[0m \u001b[0mrange\u001b[0m\u001b[0;34m(\u001b[0m\u001b[0mint\u001b[0m\u001b[0;34m(\u001b[0m\u001b[0mgames\u001b[0m\u001b[0;34m+\u001b[0m\u001b[0;36m1\u001b[0m\u001b[0;34m)\u001b[0m\u001b[0;34m)\u001b[0m\u001b[0;34m:\u001b[0m\u001b[0;34m\u001b[0m\u001b[0;34m\u001b[0m\u001b[0m\n\u001b[0m\u001b[1;32m     58\u001b[0m         \u001b[0;31m#################################################################\u001b[0m\u001b[0;34m\u001b[0m\u001b[0;34m\u001b[0m\u001b[0m\n\u001b[1;32m     59\u001b[0m         \u001b[0;31m# Code block below needs to be changed.\u001b[0m\u001b[0;34m\u001b[0m\u001b[0;34m\u001b[0m\u001b[0m\n",
      "\u001b[0;31mTypeError\u001b[0m: 'float' object cannot be interpreted as an integer"
     ]
    }
   ],
   "source": [
    "simulate(1000)\n",
    "\n",
    "#plot a histogram of winners of the WC\n",
    "plt.hist(wc_results_lists.winner.values, bins=20)"
   ]
  }
 ],
 "metadata": {
  "interpreter": {
   "hash": "a59f9fdc9d6e9f3dc8048ca9102760115e9f2281d6250c7f7ebbccc2210280f3"
  },
  "kernelspec": {
   "display_name": "Python 3.10.2 ('bams503')",
   "language": "python",
   "name": "python3"
  },
  "language_info": {
   "name": "python",
   "version": "3.10.2"
  },
  "orig_nbformat": 4
 },
 "nbformat": 4,
 "nbformat_minor": 2
}
