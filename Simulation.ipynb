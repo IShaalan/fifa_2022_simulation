{
 "cells": [
  {
   "cell_type": "markdown",
   "metadata": {},
   "source": [
    "# Load Libraries & Setup"
   ]
  },
  {
   "cell_type": "code",
   "execution_count": null,
   "metadata": {},
   "outputs": [],
   "source": [
    "import numpy as np\n",
    "import pandas as pd\n",
    "import matplotlib.pyplot as plt\n",
    "\n",
    "num_replications = 1000\n",
    "\n",
    "#this list holds the final teams participating in the competition\n",
    "wc_finals_team_list = []\n",
    "\n",
    "#this list holds the groups and their teams\n",
    "wc_groups_list = []\n",
    "\n",
    "#this dataframe holds the results of the group stage\n",
    "wc_group_results = pd.DataFrame(columns=['Group', 'Team', 'GF', 'GA', 'GD', 'YC', 'RC', 'Points'])"
   ]
  },
  {
   "cell_type": "code",
   "execution_count": 3,
   "metadata": {},
   "outputs": [
    {
     "name": "stdout",
     "output_type": "stream",
     "text": [
      "Egypt\n"
     ]
    }
   ],
   "source": [
    "import SimulationObjects as sim_obj\n",
    "\n",
    "t = sim_obj.Team(\"Egypt\", 33, 84)\n",
    "t2 = sim_obj.Team(\"Canada\",30,86)\n",
    "\n",
    "m = sim_obj.Match(t,t2,t)\n",
    "m.Home = t\n",
    "m.Away = t2\n",
    "\n",
    "print(m.home.name)\n"
   ]
  },
  {
   "cell_type": "code",
   "execution_count": null,
   "metadata": {},
   "outputs": [],
   "source": [
    "def simulate_group_stage_draw():\n",
    "    pass\n",
    "\n",
    "def simulate_group_stage():\n",
    "    pass\n",
    "\n",
    "def update_matches_list():\n",
    "    pass\n",
    "\n",
    "def simulate_round16():\n",
    "    pass\n",
    "\n",
    "def simulate_quarterfinals():\n",
    "    pass\n",
    "\n",
    "def simulate_semifinals():\n",
    "    pass\n",
    "\n",
    "def simulate_finals():\n",
    "    pass\n",
    "\n",
    "def get_matches_list():\n",
    "    pass\n",
    "\n",
    "def get_group_qualified_teams():\n",
    "    pass\n"
   ]
  },
  {
   "cell_type": "code",
   "execution_count": null,
   "metadata": {},
   "outputs": [],
   "source": [
    "def run_wc_simulation():\n",
    "    wc_groups_list = simulate_group_stage_draw()\n",
    "    get_matches_list()\n",
    "    simulate_group_stage()\n",
    "    get_group_qualified_teams()\n",
    "    update_matches_list()\n",
    "    simulate_round16()\n",
    "    simulate_quarterfinals()\n",
    "    simulate_semifinals()\n",
    "    simulate_finals()\n"
   ]
  }
 ],
 "metadata": {
  "interpreter": {
   "hash": "a59f9fdc9d6e9f3dc8048ca9102760115e9f2281d6250c7f7ebbccc2210280f3"
  },
  "kernelspec": {
   "display_name": "Python 3.10.2 ('bams503')",
   "language": "python",
   "name": "python3"
  },
  "language_info": {
   "name": "python",
   "version": "3.10.2"
  },
  "orig_nbformat": 4
 },
 "nbformat": 4,
 "nbformat_minor": 2
}
