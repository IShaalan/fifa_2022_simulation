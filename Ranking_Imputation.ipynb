{
 "cells": [
  {
   "cell_type": "code",
   "execution_count": 1,
   "metadata": {},
   "outputs": [],
   "source": [
    "import pandas as pd\n",
    "import numpy as np\n",
    "import plotly.express as px\n"
   ]
  },
  {
   "cell_type": "code",
   "execution_count": 2,
   "metadata": {},
   "outputs": [
    {
     "name": "stdout",
     "output_type": "stream",
     "text": [
      "<class 'pandas.core.frame.DataFrame'>\n",
      "RangeIndex: 63054 entries, 0 to 63053\n",
      "Data columns (total 9 columns):\n",
      " #   Column           Non-Null Count  Dtype \n",
      "---  ------           --------------  ----- \n",
      " 0   id               63054 non-null  int64 \n",
      " 1   rank             63054 non-null  int64 \n",
      " 2   country_full     63054 non-null  object\n",
      " 3   country_abrv     63054 non-null  object\n",
      " 4   total_points     63054 non-null  int64 \n",
      " 5   previous_points  63054 non-null  int64 \n",
      " 6   rank_change      63054 non-null  int64 \n",
      " 7   confederation    63054 non-null  object\n",
      " 8   rank_date        63054 non-null  object\n",
      "dtypes: int64(5), object(4)\n",
      "memory usage: 4.3+ MB\n"
     ]
    }
   ],
   "source": [
    "rankings = pd.read_csv('data/fifa_ranking.csv')\n",
    "rankings.info()"
   ]
  },
  {
   "cell_type": "code",
   "execution_count": 3,
   "metadata": {},
   "outputs": [
    {
     "data": {
      "text/html": [
       "<div>\n",
       "<style scoped>\n",
       "    .dataframe tbody tr th:only-of-type {\n",
       "        vertical-align: middle;\n",
       "    }\n",
       "\n",
       "    .dataframe tbody tr th {\n",
       "        vertical-align: top;\n",
       "    }\n",
       "\n",
       "    .dataframe thead th {\n",
       "        text-align: right;\n",
       "    }\n",
       "</style>\n",
       "<table border=\"1\" class=\"dataframe\">\n",
       "  <thead>\n",
       "    <tr style=\"text-align: right;\">\n",
       "      <th></th>\n",
       "      <th>id</th>\n",
       "      <th>rank</th>\n",
       "      <th>country_full</th>\n",
       "      <th>country_abrv</th>\n",
       "      <th>total_points</th>\n",
       "      <th>previous_points</th>\n",
       "      <th>rank_change</th>\n",
       "      <th>confederation</th>\n",
       "      <th>rank_date</th>\n",
       "    </tr>\n",
       "  </thead>\n",
       "  <tbody>\n",
       "    <tr>\n",
       "      <th>0</th>\n",
       "      <td>43818</td>\n",
       "      <td>82</td>\n",
       "      <td>Iraq</td>\n",
       "      <td>IRQ</td>\n",
       "      <td>15</td>\n",
       "      <td>0</td>\n",
       "      <td>0</td>\n",
       "      <td>AFC</td>\n",
       "      <td>1992-12-31</td>\n",
       "    </tr>\n",
       "    <tr>\n",
       "      <th>1</th>\n",
       "      <td>43873</td>\n",
       "      <td>107</td>\n",
       "      <td>Mozambique</td>\n",
       "      <td>MOZ</td>\n",
       "      <td>9</td>\n",
       "      <td>0</td>\n",
       "      <td>0</td>\n",
       "      <td>CAF</td>\n",
       "      <td>1992-12-31</td>\n",
       "    </tr>\n",
       "    <tr>\n",
       "      <th>2</th>\n",
       "      <td>43816</td>\n",
       "      <td>108</td>\n",
       "      <td>Indonesia</td>\n",
       "      <td>IDN</td>\n",
       "      <td>9</td>\n",
       "      <td>0</td>\n",
       "      <td>0</td>\n",
       "      <td>AFC</td>\n",
       "      <td>1992-12-31</td>\n",
       "    </tr>\n",
       "    <tr>\n",
       "      <th>3</th>\n",
       "      <td>1882218</td>\n",
       "      <td>109</td>\n",
       "      <td>Antigua and Barbuda</td>\n",
       "      <td>ATG</td>\n",
       "      <td>8</td>\n",
       "      <td>0</td>\n",
       "      <td>0</td>\n",
       "      <td>CONCACAF</td>\n",
       "      <td>1992-12-31</td>\n",
       "    </tr>\n",
       "    <tr>\n",
       "      <th>4</th>\n",
       "      <td>43820</td>\n",
       "      <td>110</td>\n",
       "      <td>Jordan</td>\n",
       "      <td>JOR</td>\n",
       "      <td>8</td>\n",
       "      <td>0</td>\n",
       "      <td>0</td>\n",
       "      <td>AFC</td>\n",
       "      <td>1992-12-31</td>\n",
       "    </tr>\n",
       "  </tbody>\n",
       "</table>\n",
       "</div>"
      ],
      "text/plain": [
       "        id  rank         country_full country_abrv  total_points  \\\n",
       "0    43818    82                 Iraq          IRQ            15   \n",
       "1    43873   107           Mozambique          MOZ             9   \n",
       "2    43816   108            Indonesia          IDN             9   \n",
       "3  1882218   109  Antigua and Barbuda          ATG             8   \n",
       "4    43820   110               Jordan          JOR             8   \n",
       "\n",
       "   previous_points  rank_change confederation   rank_date  \n",
       "0                0            0           AFC  1992-12-31  \n",
       "1                0            0           CAF  1992-12-31  \n",
       "2                0            0           AFC  1992-12-31  \n",
       "3                0            0      CONCACAF  1992-12-31  \n",
       "4                0            0           AFC  1992-12-31  "
      ]
     },
     "execution_count": 3,
     "metadata": {},
     "output_type": "execute_result"
    }
   ],
   "source": [
    "rankings.head()"
   ]
  },
  {
   "cell_type": "code",
   "execution_count": 4,
   "metadata": {},
   "outputs": [
    {
     "data": {
      "text/html": [
       "<div>\n",
       "<style scoped>\n",
       "    .dataframe tbody tr th:only-of-type {\n",
       "        vertical-align: middle;\n",
       "    }\n",
       "\n",
       "    .dataframe tbody tr th {\n",
       "        vertical-align: top;\n",
       "    }\n",
       "\n",
       "    .dataframe thead th {\n",
       "        text-align: right;\n",
       "    }\n",
       "</style>\n",
       "<table border=\"1\" class=\"dataframe\">\n",
       "  <thead>\n",
       "    <tr style=\"text-align: right;\">\n",
       "      <th></th>\n",
       "      <th>id</th>\n",
       "      <th>rank</th>\n",
       "      <th>country_full</th>\n",
       "      <th>country_abrv</th>\n",
       "      <th>total_points</th>\n",
       "      <th>previous_points</th>\n",
       "      <th>rank_change</th>\n",
       "      <th>confederation</th>\n",
       "      <th>rank_date</th>\n",
       "    </tr>\n",
       "  </thead>\n",
       "  <tbody>\n",
       "    <tr>\n",
       "      <th>90</th>\n",
       "      <td>43855</td>\n",
       "      <td>21</td>\n",
       "      <td>Egypt</td>\n",
       "      <td>EGY</td>\n",
       "      <td>45</td>\n",
       "      <td>0</td>\n",
       "      <td>0</td>\n",
       "      <td>CAF</td>\n",
       "      <td>1992-12-31</td>\n",
       "    </tr>\n",
       "    <tr>\n",
       "      <th>241</th>\n",
       "      <td>43855</td>\n",
       "      <td>26</td>\n",
       "      <td>Egypt</td>\n",
       "      <td>EGY</td>\n",
       "      <td>44</td>\n",
       "      <td>45</td>\n",
       "      <td>5</td>\n",
       "      <td>CAF</td>\n",
       "      <td>1993-08-08</td>\n",
       "    </tr>\n",
       "    <tr>\n",
       "      <th>415</th>\n",
       "      <td>43855</td>\n",
       "      <td>25</td>\n",
       "      <td>Egypt</td>\n",
       "      <td>EGY</td>\n",
       "      <td>45</td>\n",
       "      <td>44</td>\n",
       "      <td>1</td>\n",
       "      <td>CAF</td>\n",
       "      <td>1993-09-23</td>\n",
       "    </tr>\n",
       "    <tr>\n",
       "      <th>583</th>\n",
       "      <td>43855</td>\n",
       "      <td>27</td>\n",
       "      <td>Egypt</td>\n",
       "      <td>EGY</td>\n",
       "      <td>44</td>\n",
       "      <td>45</td>\n",
       "      <td>2</td>\n",
       "      <td>CAF</td>\n",
       "      <td>1993-10-22</td>\n",
       "    </tr>\n",
       "    <tr>\n",
       "      <th>755</th>\n",
       "      <td>43855</td>\n",
       "      <td>31</td>\n",
       "      <td>Egypt</td>\n",
       "      <td>EGY</td>\n",
       "      <td>43</td>\n",
       "      <td>44</td>\n",
       "      <td>4</td>\n",
       "      <td>CAF</td>\n",
       "      <td>1993-11-19</td>\n",
       "    </tr>\n",
       "    <tr>\n",
       "      <th>...</th>\n",
       "      <td>...</td>\n",
       "      <td>...</td>\n",
       "      <td>...</td>\n",
       "      <td>...</td>\n",
       "      <td>...</td>\n",
       "      <td>...</td>\n",
       "      <td>...</td>\n",
       "      <td>...</td>\n",
       "      <td>...</td>\n",
       "    </tr>\n",
       "    <tr>\n",
       "      <th>62129</th>\n",
       "      <td>43855</td>\n",
       "      <td>49</td>\n",
       "      <td>Egypt</td>\n",
       "      <td>EGY</td>\n",
       "      <td>1432</td>\n",
       "      <td>1420</td>\n",
       "      <td>3</td>\n",
       "      <td>CAF</td>\n",
       "      <td>2020-11-26</td>\n",
       "    </tr>\n",
       "    <tr>\n",
       "      <th>62339</th>\n",
       "      <td>43855</td>\n",
       "      <td>49</td>\n",
       "      <td>Egypt</td>\n",
       "      <td>EGY</td>\n",
       "      <td>1432</td>\n",
       "      <td>1432</td>\n",
       "      <td>0</td>\n",
       "      <td>CAF</td>\n",
       "      <td>2020-12-10</td>\n",
       "    </tr>\n",
       "    <tr>\n",
       "      <th>62551</th>\n",
       "      <td>43855</td>\n",
       "      <td>49</td>\n",
       "      <td>Egypt</td>\n",
       "      <td>EGY</td>\n",
       "      <td>1432</td>\n",
       "      <td>1432</td>\n",
       "      <td>0</td>\n",
       "      <td>CAF</td>\n",
       "      <td>2021-02-18</td>\n",
       "    </tr>\n",
       "    <tr>\n",
       "      <th>62717</th>\n",
       "      <td>43855</td>\n",
       "      <td>46</td>\n",
       "      <td>Egypt</td>\n",
       "      <td>EGY</td>\n",
       "      <td>1432</td>\n",
       "      <td>1432</td>\n",
       "      <td>3</td>\n",
       "      <td>CAF</td>\n",
       "      <td>2021-04-07</td>\n",
       "    </tr>\n",
       "    <tr>\n",
       "      <th>62928</th>\n",
       "      <td>43855</td>\n",
       "      <td>46</td>\n",
       "      <td>Egypt</td>\n",
       "      <td>EGY</td>\n",
       "      <td>1432</td>\n",
       "      <td>1432</td>\n",
       "      <td>0</td>\n",
       "      <td>CAF</td>\n",
       "      <td>2021-05-27</td>\n",
       "    </tr>\n",
       "  </tbody>\n",
       "</table>\n",
       "<p>312 rows × 9 columns</p>\n",
       "</div>"
      ],
      "text/plain": [
       "          id  rank country_full country_abrv  total_points  previous_points  \\\n",
       "90     43855    21        Egypt          EGY            45                0   \n",
       "241    43855    26        Egypt          EGY            44               45   \n",
       "415    43855    25        Egypt          EGY            45               44   \n",
       "583    43855    27        Egypt          EGY            44               45   \n",
       "755    43855    31        Egypt          EGY            43               44   \n",
       "...      ...   ...          ...          ...           ...              ...   \n",
       "62129  43855    49        Egypt          EGY          1432             1420   \n",
       "62339  43855    49        Egypt          EGY          1432             1432   \n",
       "62551  43855    49        Egypt          EGY          1432             1432   \n",
       "62717  43855    46        Egypt          EGY          1432             1432   \n",
       "62928  43855    46        Egypt          EGY          1432             1432   \n",
       "\n",
       "       rank_change confederation   rank_date  \n",
       "90               0           CAF  1992-12-31  \n",
       "241              5           CAF  1993-08-08  \n",
       "415              1           CAF  1993-09-23  \n",
       "583              2           CAF  1993-10-22  \n",
       "755              4           CAF  1993-11-19  \n",
       "...            ...           ...         ...  \n",
       "62129            3           CAF  2020-11-26  \n",
       "62339            0           CAF  2020-12-10  \n",
       "62551            0           CAF  2021-02-18  \n",
       "62717            3           CAF  2021-04-07  \n",
       "62928            0           CAF  2021-05-27  \n",
       "\n",
       "[312 rows x 9 columns]"
      ]
     },
     "execution_count": 4,
     "metadata": {},
     "output_type": "execute_result"
    }
   ],
   "source": [
    "#filter the rankings by country Egypt\n",
    "rankings[rankings['country_full'] == 'Egypt']\n"
   ]
  },
  {
   "cell_type": "code",
   "execution_count": 5,
   "metadata": {},
   "outputs": [
    {
     "data": {
      "text/plain": [
       "<AxesSubplot:xlabel='rank_date'>"
      ]
     },
     "execution_count": 5,
     "metadata": {},
     "output_type": "execute_result"
    },
    {
     "data": {
      "image/png": "[encoded data removed]",
      "text/plain": [
       "<Figure size 720x360 with 1 Axes>"
      ]
     },
     "metadata": {
      "needs_background": "light"
     },
     "output_type": "display_data"
    }
   ],
   "source": [
    "\n",
    "#plot the rankings of Egypt vs rank_date\n",
    "rankings[rankings['country_full'] == 'Egypt'].plot(x='rank_date', y='rank', figsize=(10,5))"
   ]
  },
  {
   "cell_type": "code",
   "execution_count": 6,
   "metadata": {},
   "outputs": [],
   "source": [
    "#get the year from the date\n",
    "rankings['year'] = rankings['rank_date'].apply(lambda x: x[:4])\n",
    "#get the month from the date\n",
    "rankings['month'] = rankings['rank_date'].apply(lambda x: x[5:7])\n",
    "\n",
    "#convert the year to int\n",
    "rankings['year'] = rankings['year'].astype(int)\n",
    "#convert the month to int\n",
    "rankings['month'] = rankings['month'].astype(int)\n"
   ]
  },
  {
   "cell_type": "code",
   "execution_count": 7,
   "metadata": {},
   "outputs": [
    {
     "data": {
      "text/html": [
       "<div>\n",
       "<style scoped>\n",
       "    .dataframe tbody tr th:only-of-type {\n",
       "        vertical-align: middle;\n",
       "    }\n",
       "\n",
       "    .dataframe tbody tr th {\n",
       "        vertical-align: top;\n",
       "    }\n",
       "\n",
       "    .dataframe thead th {\n",
       "        text-align: right;\n",
       "    }\n",
       "</style>\n",
       "<table border=\"1\" class=\"dataframe\">\n",
       "  <thead>\n",
       "    <tr style=\"text-align: right;\">\n",
       "      <th></th>\n",
       "      <th>year</th>\n",
       "      <th>month</th>\n",
       "      <th>country_full</th>\n",
       "      <th>rank</th>\n",
       "    </tr>\n",
       "  </thead>\n",
       "  <tbody>\n",
       "    <tr>\n",
       "      <th>0</th>\n",
       "      <td>1993</td>\n",
       "      <td>1</td>\n",
       "      <td>Iraq</td>\n",
       "      <td>82</td>\n",
       "    </tr>\n",
       "    <tr>\n",
       "      <th>1</th>\n",
       "      <td>1993</td>\n",
       "      <td>1</td>\n",
       "      <td>Mozambique</td>\n",
       "      <td>107</td>\n",
       "    </tr>\n",
       "    <tr>\n",
       "      <th>2</th>\n",
       "      <td>1993</td>\n",
       "      <td>1</td>\n",
       "      <td>Indonesia</td>\n",
       "      <td>108</td>\n",
       "    </tr>\n",
       "    <tr>\n",
       "      <th>3</th>\n",
       "      <td>1993</td>\n",
       "      <td>1</td>\n",
       "      <td>Antigua and Barbuda</td>\n",
       "      <td>109</td>\n",
       "    </tr>\n",
       "    <tr>\n",
       "      <th>4</th>\n",
       "      <td>1993</td>\n",
       "      <td>1</td>\n",
       "      <td>Jordan</td>\n",
       "      <td>110</td>\n",
       "    </tr>\n",
       "    <tr>\n",
       "      <th>...</th>\n",
       "      <td>...</td>\n",
       "      <td>...</td>\n",
       "      <td>...</td>\n",
       "      <td>...</td>\n",
       "    </tr>\n",
       "    <tr>\n",
       "      <th>8203</th>\n",
       "      <td>2021</td>\n",
       "      <td>12</td>\n",
       "      <td>Montenegro</td>\n",
       "      <td>64</td>\n",
       "    </tr>\n",
       "    <tr>\n",
       "      <th>8204</th>\n",
       "      <td>2021</td>\n",
       "      <td>12</td>\n",
       "      <td>Curaçao</td>\n",
       "      <td>76</td>\n",
       "    </tr>\n",
       "    <tr>\n",
       "      <th>8205</th>\n",
       "      <td>2021</td>\n",
       "      <td>12</td>\n",
       "      <td>South Sudan</td>\n",
       "      <td>169</td>\n",
       "    </tr>\n",
       "    <tr>\n",
       "      <th>8206</th>\n",
       "      <td>2021</td>\n",
       "      <td>12</td>\n",
       "      <td>Kosovo</td>\n",
       "      <td>120</td>\n",
       "    </tr>\n",
       "    <tr>\n",
       "      <th>8207</th>\n",
       "      <td>2021</td>\n",
       "      <td>12</td>\n",
       "      <td>Gibraltar</td>\n",
       "      <td>195</td>\n",
       "    </tr>\n",
       "  </tbody>\n",
       "</table>\n",
       "<p>8208 rows × 4 columns</p>\n",
       "</div>"
      ],
      "text/plain": [
       "      year  month         country_full  rank\n",
       "0     1993      1                 Iraq    82\n",
       "1     1993      1           Mozambique   107\n",
       "2     1993      1            Indonesia   108\n",
       "3     1993      1  Antigua and Barbuda   109\n",
       "4     1993      1               Jordan   110\n",
       "...    ...    ...                  ...   ...\n",
       "8203  2021     12           Montenegro    64\n",
       "8204  2021     12              Curaçao    76\n",
       "8205  2021     12          South Sudan   169\n",
       "8206  2021     12               Kosovo   120\n",
       "8207  2021     12            Gibraltar   195\n",
       "\n",
       "[8208 rows x 4 columns]"
      ]
     },
     "execution_count": 7,
     "metadata": {},
     "output_type": "execute_result"
    }
   ],
   "source": [
    "#get distinct year and month\n",
    "years_lst = rankings['year'].unique()\n",
    "countries_lst = rankings['country_full'].unique()\n",
    "# if year and month didn't exist, then create them and fill the ranking with previous month ranking\n",
    "country_lst = []\n",
    "year_lst = []\n",
    "month_lst = []\n",
    "rank_lst =  []\n",
    "missing_rankings = pd.DataFrame(columns = ['year', 'month', 'country_full', 'rank'])\n",
    "for i in range(1993,2022,1):\n",
    "    months_lst = rankings[(rankings['year'] == i)]['month'].unique()\n",
    "    for j in range(1,13,1):\n",
    "        month = j\n",
    "        if j not in months_lst:\n",
    "            for country in countries_lst:\n",
    "                if j==1:\n",
    "                    year = i-1\n",
    "                    month = 12\n",
    "                else:\n",
    "                    year = i\n",
    "                    month = j - 1\n",
    "                #get rank from year and month and country\n",
    "                if(i == 1993 and j == 3):\n",
    "                    rank = 1\n",
    "                try :\n",
    "                    rank = rankings[(rankings['year'] == year) & (rankings['month'] == month) & (rankings['country_full'] == country)]['rank'].values[0]\n",
    "                except:\n",
    "                    try:\n",
    "                        rank = missing_rankings[(missing_rankings['year'] == year) & (missing_rankings['month'] == month) & (missing_rankings['country_full'] == country)]['rank'].values[0]\n",
    "                    except:\n",
    "                        rank = 200\n",
    "\n",
    "                #add row\n",
    "                year_lst.append(i)\n",
    "                month_lst.append(j)\n",
    "                country_lst.append(country)\n",
    "                rank_lst.append(rank)\n",
    "                missing_rankings = pd.DataFrame({'year':year_lst, 'month':month_lst, 'country_full':country_lst, 'rank':rank_lst})\n",
    "\n",
    "missing_rankings\n"
   ]
  },
  {
   "cell_type": "code",
   "execution_count": 8,
   "metadata": {},
   "outputs": [],
   "source": [
    "missing_rankings['rank_date'] = missing_rankings.year.astype(str) + '-' + missing_rankings.month.astype(str) + '-01'\n",
    "#drop everything except the year, month, country_full and rank\n",
    "new_rankings = rankings[['year', 'month', 'country_full', 'rank','rank_date']]\n",
    "\n",
    "#concat missing_ranking and new_rankings\n",
    "new_rankings = pd.concat([new_rankings, missing_rankings])\n",
    "\n",
    "new_rankings['rank_date'] = pd.to_datetime(new_rankings['rank_date'])\n",
    "\n",
    "new_rankings.sort_values(inplace=True, by=['rank_date','rank'])\n",
    "\n",
    "new_rankings.to_csv('data/fifa_ranking_full.csv')"
   ]
  },
  {
   "cell_type": "code",
   "execution_count": 10,
   "metadata": {},
   "outputs": [
    {
     "data": {
      "application/vnd.plotly.v1+json": {
       "config": {
        "plotlyServerURL": "https://plot.ly"
       },
       "data": [
        {
         "hovertemplate": "rank_date=%{x}<br>rank=%{y}<extra></extra>",
         "legendgroup": "",
         "line": {
          "color": "#636efa",
          "dash": "solid"
         },
         "mode": "lines",
         "name": "",
         "orientation": "v",
         "showlegend": false,
         "type": "scatter",
         "x": [
          "1992-12-31T00:00:00",
          "1993-01-01T00:00:00",
          "1993-02-01T00:00:00",
          "1993-03-01T00:00:00",
          "1993-04-01T00:00:00",
          "1993-05-01T00:00:00",
          "1993-06-01T00:00:00",
          "1993-07-01T00:00:00",
          "1993-08-08T00:00:00",
          "1993-09-23T00:00:00",
          "1993-10-22T00:00:00",
          "1993-11-19T00:00:00",
          "1993-12-23T00:00:00",
          "1994-01-01T00:00:00",
          "1994-02-15T00:00:00",
          "1994-03-15T00:00:00",
          "1994-04-19T00:00:00",
          "1994-05-17T00:00:00",
          "1994-06-14T00:00:00",
          "1994-07-21T00:00:00",
          "1994-08-01T00:00:00",
          "1994-09-13T00:00:00",
          "1994-10-25T00:00:00",
          "1994-11-22T00:00:00",
          "1994-12-20T00:00:00",
          "1995-01-01T00:00:00",
          "1995-02-20T00:00:00",
          "1995-03-01T00:00:00",
          "1995-04-19T00:00:00",
          "1995-05-16T00:00:00",
          "1995-06-13T00:00:00",
          "1995-07-25T00:00:00",
          "1995-08-22T00:00:00",
          "1995-09-19T00:00:00",
          "1995-10-17T00:00:00",
          "1995-11-21T00:00:00",
          "1995-12-19T00:00:00",
          "1996-01-24T00:00:00",
          "1996-02-21T00:00:00",
          "1996-03-01T00:00:00",
          "1996-04-24T00:00:00",
          "1996-05-22T00:00:00",
          "1996-06-01T00:00:00",
          "1996-07-03T00:00:00",
          "1996-08-28T00:00:00",
          "1996-09-25T00:00:00",
          "1996-10-23T00:00:00",
          "1996-11-20T00:00:00",
          "1996-12-18T00:00:00",
          "1997-01-01T00:00:00",
          "1997-02-27T00:00:00",
          "1997-03-01T00:00:00",
          "1997-04-09T00:00:00",
          "1997-05-14T00:00:00",
          "1997-06-18T00:00:00",
          "1997-07-16T00:00:00",
          "1997-08-20T00:00:00",
          "1997-09-17T00:00:00",
          "1997-10-17T00:00:00",
          "1997-11-19T00:00:00",
          "1997-12-23T00:00:00",
          "1998-01-01T00:00:00",
          "1998-02-18T00:00:00",
          "1998-03-18T00:00:00",
          "1998-04-22T00:00:00",
          "1998-05-20T00:00:00",
          "1998-06-01T00:00:00",
          "1998-07-15T00:00:00",
          "1998-08-19T00:00:00",
          "1998-09-16T00:00:00",
          "1998-10-21T00:00:00",
          "1998-11-18T00:00:00",
          "1998-12-23T00:00:00",
          "1999-01-27T00:00:00",
          "1999-02-24T00:00:00",
          "1999-03-24T00:00:00",
          "1999-04-21T00:00:00",
          "1999-05-19T00:00:00",
          "1999-06-16T00:00:00",
          "1999-07-21T00:00:00",
          "1999-08-18T00:00:00",
          "1999-09-15T00:00:00",
          "1999-10-13T00:00:00",
          "1999-11-17T00:00:00",
          "1999-12-22T00:00:00",
          "2000-01-19T00:00:00",
          "2000-02-16T00:00:00",
          "2000-03-15T00:00:00",
          "2000-04-12T00:00:00",
          "2000-05-10T00:00:00",
          "2000-06-07T00:00:00",
          "2000-07-05T00:00:00",
          "2000-08-09T00:00:00",
          "2000-09-06T00:00:00",
          "2000-10-11T00:00:00",
          "2000-11-15T00:00:00",
          "2000-12-20T00:00:00",
          "2001-01-17T00:00:00",
          "2001-02-14T00:00:00",
          "2001-03-14T00:00:00",
          "2001-04-11T00:00:00",
          "2001-05-16T00:00:00",
          "2001-06-20T00:00:00",
          "2001-07-18T00:00:00",
          "2001-08-22T00:00:00",
          "2001-09-19T00:00:00",
          "2001-10-17T00:00:00",
          "2001-11-21T00:00:00",
          "2001-12-19T00:00:00",
          "2002-01-16T00:00:00",
          "2002-02-13T00:00:00",
          "2002-03-20T00:00:00",
          "2002-04-17T00:00:00",
          "2002-05-15T00:00:00",
          "2002-06-01T00:00:00",
          "2002-07-03T00:00:00",
          "2002-08-14T00:00:00",
          "2002-09-18T00:00:00",
          "2002-10-23T00:00:00",
          "2002-11-20T00:00:00",
          "2002-12-18T00:00:00",
          "2003-01-15T00:00:00",
          "2003-02-19T00:00:00",
          "2003-03-26T00:00:00",
          "2003-04-23T00:00:00",
          "2003-05-21T00:00:00",
          "2003-06-25T00:00:00",
          "2003-07-30T00:00:00",
          "2003-08-27T00:00:00",
          "2003-09-24T00:00:00",
          "2003-10-22T00:00:00",
          "2003-11-19T00:00:00",
          "2003-12-15T00:00:00",
          "2004-01-14T00:00:00",
          "2004-02-18T00:00:00",
          "2004-03-17T00:00:00",
          "2004-04-14T00:00:00",
          "2004-05-12T00:00:00",
          "2004-06-09T00:00:00",
          "2004-07-07T00:00:00",
          "2004-08-04T00:00:00",
          "2004-09-01T00:00:00",
          "2004-10-06T00:00:00",
          "2004-11-10T00:00:00",
          "2004-12-20T00:00:00",
          "2005-01-19T00:00:00",
          "2005-02-16T00:00:00",
          "2005-03-23T00:00:00",
          "2005-04-20T00:00:00",
          "2005-05-18T00:00:00",
          "2005-06-15T00:00:00",
          "2005-07-20T00:00:00",
          "2005-08-17T00:00:00",
          "2005-09-12T00:00:00",
          "2005-10-17T00:00:00",
          "2005-11-21T00:00:00",
          "2005-12-16T00:00:00",
          "2006-01-18T00:00:00",
          "2006-02-15T00:00:00",
          "2006-03-15T00:00:00",
          "2006-04-19T00:00:00",
          "2006-05-17T00:00:00",
          "2006-06-01T00:00:00",
          "2006-07-12T00:00:00",
          "2006-08-16T00:00:00",
          "2006-09-13T00:00:00",
          "2006-10-18T00:00:00",
          "2006-11-22T00:00:00",
          "2006-12-18T00:00:00",
          "2007-01-17T00:00:00",
          "2007-02-14T00:00:00",
          "2007-03-14T00:00:00",
          "2007-04-18T00:00:00",
          "2007-05-16T00:00:00",
          "2007-06-13T00:00:00",
          "2007-07-18T00:00:00",
          "2007-08-22T00:00:00",
          "2007-09-19T00:00:00",
          "2007-10-24T00:00:00",
          "2007-11-22T00:00:00",
          "2007-12-17T00:00:00",
          "2008-01-16T00:00:00",
          "2008-02-13T00:00:00",
          "2008-03-12T00:00:00",
          "2008-04-09T00:00:00",
          "2008-05-07T00:00:00",
          "2008-06-04T00:00:00",
          "2008-07-02T00:00:00",
          "2008-08-06T00:00:00",
          "2008-09-03T00:00:00",
          "2008-10-08T00:00:00",
          "2008-11-12T00:00:00",
          "2008-12-17T00:00:00",
          "2009-01-14T00:00:00",
          "2009-02-11T00:00:00",
          "2009-03-11T00:00:00",
          "2009-04-08T00:00:00",
          "2009-05-06T00:00:00",
          "2009-06-03T00:00:00",
          "2009-07-01T00:00:00",
          "2009-08-05T00:00:00",
          "2009-09-02T00:00:00",
          "2009-10-16T00:00:00",
          "2009-11-20T00:00:00",
          "2009-12-16T00:00:00",
          "2010-01-01T00:00:00",
          "2010-02-03T00:00:00",
          "2010-03-03T00:00:00",
          "2010-03-31T00:00:00",
          "2010-04-28T00:00:00",
          "2010-05-26T00:00:00",
          "2010-06-01T00:00:00",
          "2010-07-14T00:00:00",
          "2010-08-11T00:00:00",
          "2010-09-15T00:00:00",
          "2010-10-20T00:00:00",
          "2010-11-17T00:00:00",
          "2010-12-15T00:00:00",
          "2011-01-12T00:00:00",
          "2011-02-02T00:00:00",
          "2011-03-09T00:00:00",
          "2011-04-13T00:00:00",
          "2011-05-18T00:00:00",
          "2011-06-29T00:00:00",
          "2011-07-27T00:00:00",
          "2011-08-24T00:00:00",
          "2011-09-21T00:00:00",
          "2011-10-19T00:00:00",
          "2011-11-23T00:00:00",
          "2011-12-21T00:00:00",
          "2012-01-18T00:00:00",
          "2012-02-15T00:00:00",
          "2012-03-07T00:00:00",
          "2012-04-11T00:00:00",
          "2012-05-09T00:00:00",
          "2012-06-06T00:00:00",
          "2012-07-04T00:00:00",
          "2012-08-08T00:00:00",
          "2012-09-05T00:00:00",
          "2012-10-03T00:00:00",
          "2012-11-07T00:00:00",
          "2012-12-19T00:00:00",
          "2013-01-17T00:00:00",
          "2013-02-14T00:00:00",
          "2013-03-14T00:00:00",
          "2013-04-11T00:00:00",
          "2013-05-09T00:00:00",
          "2013-06-06T00:00:00",
          "2013-07-04T00:00:00",
          "2013-08-08T00:00:00",
          "2013-09-12T00:00:00",
          "2013-10-17T00:00:00",
          "2013-11-28T00:00:00",
          "2013-12-19T00:00:00",
          "2014-01-16T00:00:00",
          "2014-02-13T00:00:00",
          "2014-03-13T00:00:00",
          "2014-04-10T00:00:00",
          "2014-05-08T00:00:00",
          "2014-06-05T00:00:00",
          "2014-07-17T00:00:00",
          "2014-08-14T00:00:00",
          "2014-09-18T00:00:00",
          "2014-10-23T00:00:00",
          "2014-11-27T00:00:00",
          "2014-12-18T00:00:00",
          "2015-01-08T00:00:00",
          "2015-02-12T00:00:00",
          "2015-03-12T00:00:00",
          "2015-04-09T00:00:00",
          "2015-05-07T00:00:00",
          "2015-06-04T00:00:00",
          "2015-07-09T00:00:00",
          "2015-08-06T00:00:00",
          "2015-09-03T00:00:00",
          "2015-10-01T00:00:00",
          "2015-11-05T00:00:00",
          "2015-12-03T00:00:00",
          "2016-01-07T00:00:00",
          "2016-02-04T00:00:00",
          "2016-03-03T00:00:00",
          "2016-04-07T00:00:00",
          "2016-05-05T00:00:00",
          "2016-06-02T00:00:00",
          "2016-07-14T00:00:00",
          "2016-08-11T00:00:00",
          "2016-09-15T00:00:00",
          "2016-10-20T00:00:00",
          "2016-11-24T00:00:00",
          "2016-12-22T00:00:00",
          "2017-01-12T00:00:00",
          "2017-02-09T00:00:00",
          "2017-03-09T00:00:00",
          "2017-04-06T00:00:00",
          "2017-05-04T00:00:00",
          "2017-06-01T00:00:00",
          "2017-07-06T00:00:00",
          "2017-08-10T00:00:00",
          "2017-09-14T00:00:00",
          "2017-10-16T00:00:00",
          "2017-11-23T00:00:00",
          "2017-12-21T00:00:00",
          "2018-01-18T00:00:00",
          "2018-02-15T00:00:00",
          "2018-03-15T00:00:00",
          "2018-04-12T00:00:00",
          "2018-05-17T00:00:00",
          "2018-06-07T00:00:00",
          "2018-07-01T00:00:00",
          "2018-08-16T00:00:00",
          "2018-09-20T00:00:00",
          "2018-10-25T00:00:00",
          "2018-11-29T00:00:00",
          "2018-12-20T00:00:00",
          "2019-01-01T00:00:00",
          "2019-02-07T00:00:00",
          "2019-03-01T00:00:00",
          "2019-04-04T00:00:00",
          "2019-05-01T00:00:00",
          "2019-06-14T00:00:00",
          "2019-07-25T00:00:00",
          "2019-08-01T00:00:00",
          "2019-09-19T00:00:00",
          "2019-10-24T00:00:00",
          "2019-11-28T00:00:00",
          "2019-12-19T00:00:00",
          "2020-01-01T00:00:00",
          "2020-02-20T00:00:00",
          "2020-03-01T00:00:00",
          "2020-04-09T00:00:00",
          "2020-05-01T00:00:00",
          "2020-06-11T00:00:00",
          "2020-07-16T00:00:00",
          "2020-08-01T00:00:00",
          "2020-09-17T00:00:00",
          "2020-10-22T00:00:00",
          "2020-11-26T00:00:00",
          "2020-12-10T00:00:00",
          "2021-01-01T00:00:00",
          "2021-02-18T00:00:00",
          "2021-03-01T00:00:00",
          "2021-04-07T00:00:00",
          "2021-05-27T00:00:00",
          "2021-06-01T00:00:00",
          "2021-07-01T00:00:00",
          "2021-08-01T00:00:00",
          "2021-09-01T00:00:00",
          "2021-10-01T00:00:00",
          "2021-11-01T00:00:00",
          "2021-12-01T00:00:00"
         ],
         "xaxis": "x",
         "y": [
          3,
          3,
          3,
          3,
          3,
          3,
          3,
          3,
          8,
          1,
          1,
          4,
          3,
          3,
          2,
          2,
          1,
          1,
          3,
          1,
          1,
          1,
          1,
          1,
          1,
          1,
          1,
          1,
          1,
          1,
          1,
          1,
          1,
          1,
          1,
          1,
          1,
          1,
          1,
          1,
          1,
          1,
          1,
          1,
          1,
          1,
          1,
          1,
          1,
          1,
          1,
          1,
          1,
          1,
          1,
          1,
          1,
          1,
          1,
          1,
          1,
          1,
          1,
          1,
          1,
          1,
          1,
          1,
          1,
          1,
          1,
          1,
          1,
          1,
          1,
          1,
          1,
          1,
          1,
          1,
          1,
          1,
          1,
          1,
          1,
          1,
          1,
          1,
          1,
          1,
          1,
          1,
          1,
          1,
          1,
          1,
          1,
          1,
          1,
          1,
          1,
          2,
          2,
          2,
          2,
          2,
          2,
          3,
          3,
          3,
          3,
          3,
          2,
          2,
          2,
          1,
          1,
          1,
          1,
          1,
          1,
          1,
          1,
          1,
          1,
          1,
          1,
          1,
          1,
          1,
          1,
          1,
          1,
          1,
          1,
          1,
          1,
          1,
          1,
          1,
          1,
          1,
          1,
          1,
          1,
          1,
          1,
          1,
          1,
          1,
          1,
          1,
          1,
          1,
          1,
          1,
          1,
          1,
          1,
          1,
          1,
          1,
          1,
          1,
          1,
          1,
          1,
          1,
          1,
          1,
          2,
          3,
          3,
          2,
          3,
          1,
          1,
          3,
          2,
          2,
          2,
          2,
          2,
          2,
          2,
          2,
          2,
          4,
          6,
          6,
          4,
          5,
          5,
          5,
          5,
          5,
          4,
          4,
          5,
          1,
          1,
          1,
          1,
          2,
          2,
          2,
          2,
          2,
          2,
          1,
          1,
          1,
          3,
          3,
          4,
          3,
          3,
          4,
          4,
          4,
          5,
          3,
          3,
          5,
          4,
          6,
          7,
          5,
          6,
          6,
          6,
          7,
          5,
          6,
          6,
          5,
          11,
          13,
          12,
          14,
          13,
          18,
          18,
          18,
          18,
          19,
          19,
          22,
          9,
          9,
          8,
          11,
          10,
          10,
          10,
          9,
          9,
          6,
          4,
          3,
          7,
          7,
          6,
          6,
          6,
          6,
          6,
          6,
          6,
          5,
          5,
          5,
          6,
          5,
          5,
          7,
          8,
          6,
          6,
          6,
          6,
          7,
          7,
          7,
          9,
          9,
          4,
          3,
          2,
          2,
          2,
          2,
          2,
          1,
          1,
          1,
          2,
          1,
          2,
          2,
          2,
          2,
          2,
          2,
          2,
          2,
          2,
          2,
          4,
          3,
          3,
          3,
          3,
          3,
          3,
          3,
          3,
          3,
          3,
          3,
          2,
          2,
          3,
          3,
          3,
          3,
          3,
          3,
          3,
          3,
          3,
          3,
          3,
          3,
          3,
          3,
          3,
          3,
          3,
          3,
          3,
          3,
          3,
          3,
          3,
          3,
          3,
          3,
          3,
          3
         ],
         "yaxis": "y"
        }
       ],
       "layout": {
        "legend": {
         "tracegroupgap": 0
        },
        "template": {
         "data": {
          "bar": [
           {
            "error_x": {
             "color": "#2a3f5f"
            },
            "error_y": {
             "color": "#2a3f5f"
            },
            "marker": {
             "line": {
              "color": "#E5ECF6",
              "width": 0.5
             },
             "pattern": {
              "fillmode": "overlay",
              "size": 10,
              "solidity": 0.2
             }
            },
            "type": "bar"
           }
          ],
          "barpolar": [
           {
            "marker": {
             "line": {
              "color": "#E5ECF6",
              "width": 0.5
             },
             "pattern": {
              "fillmode": "overlay",
              "size": 10,
              "solidity": 0.2
             }
            },
            "type": "barpolar"
           }
          ],
          "carpet": [
           {
            "aaxis": {
             "endlinecolor": "#2a3f5f",
             "gridcolor": "white",
             "linecolor": "white",
             "minorgridcolor": "white",
             "startlinecolor": "#2a3f5f"
            },
            "baxis": {
             "endlinecolor": "#2a3f5f",
             "gridcolor": "white",
             "linecolor": "white",
             "minorgridcolor": "white",
             "startlinecolor": "#2a3f5f"
            },
            "type": "carpet"
           }
          ],
          "choropleth": [
           {
            "colorbar": {
             "outlinewidth": 0,
             "ticks": ""
            },
            "type": "choropleth"
           }
          ],
          "contour": [
           {
            "colorbar": {
             "outlinewidth": 0,
             "ticks": ""
            },
            "colorscale": [
             [
              0,
              "#0d0887"
             ],
             [
              0.1111111111111111,
              "#46039f"
             ],
             [
              0.2222222222222222,
              "#7201a8"
             ],
             [
              0.3333333333333333,
              "#9c179e"
             ],
             [
              0.4444444444444444,
              "#bd3786"
             ],
             [
              0.5555555555555556,
              "#d8576b"
             ],
             [
              0.6666666666666666,
              "#ed7953"
             ],
             [
              0.7777777777777778,
              "#fb9f3a"
             ],
             [
              0.8888888888888888,
              "#fdca26"
             ],
             [
              1,
              "#f0f921"
             ]
            ],
            "type": "contour"
           }
          ],
          "contourcarpet": [
           {
            "colorbar": {
             "outlinewidth": 0,
             "ticks": ""
            },
            "type": "contourcarpet"
           }
          ],
          "heatmap": [
           {
            "colorbar": {
             "outlinewidth": 0,
             "ticks": ""
            },
            "colorscale": [
             [
              0,
              "#0d0887"
             ],
             [
              0.1111111111111111,
              "#46039f"
             ],
             [
              0.2222222222222222,
              "#7201a8"
             ],
             [
              0.3333333333333333,
              "#9c179e"
             ],
             [
              0.4444444444444444,
              "#bd3786"
             ],
             [
              0.5555555555555556,
              "#d8576b"
             ],
             [
              0.6666666666666666,
              "#ed7953"
             ],
             [
              0.7777777777777778,
              "#fb9f3a"
             ],
             [
              0.8888888888888888,
              "#fdca26"
             ],
             [
              1,
              "#f0f921"
             ]
            ],
            "type": "heatmap"
           }
          ],
          "heatmapgl": [
           {
            "colorbar": {
             "outlinewidth": 0,
             "ticks": ""
            },
            "colorscale": [
             [
              0,
              "#0d0887"
             ],
             [
              0.1111111111111111,
              "#46039f"
             ],
             [
              0.2222222222222222,
              "#7201a8"
             ],
             [
              0.3333333333333333,
              "#9c179e"
             ],
             [
              0.4444444444444444,
              "#bd3786"
             ],
             [
              0.5555555555555556,
              "#d8576b"
             ],
             [
              0.6666666666666666,
              "#ed7953"
             ],
             [
              0.7777777777777778,
              "#fb9f3a"
             ],
             [
              0.8888888888888888,
              "#fdca26"
             ],
             [
              1,
              "#f0f921"
             ]
            ],
            "type": "heatmapgl"
           }
          ],
          "histogram": [
           {
            "marker": {
             "pattern": {
              "fillmode": "overlay",
              "size": 10,
              "solidity": 0.2
             }
            },
            "type": "histogram"
           }
          ],
          "histogram2d": [
           {
            "colorbar": {
             "outlinewidth": 0,
             "ticks": ""
            },
            "colorscale": [
             [
              0,
              "#0d0887"
             ],
             [
              0.1111111111111111,
              "#46039f"
             ],
             [
              0.2222222222222222,
              "#7201a8"
             ],
             [
              0.3333333333333333,
              "#9c179e"
             ],
             [
              0.4444444444444444,
              "#bd3786"
             ],
             [
              0.5555555555555556,
              "#d8576b"
             ],
             [
              0.6666666666666666,
              "#ed7953"
             ],
             [
              0.7777777777777778,
              "#fb9f3a"
             ],
             [
              0.8888888888888888,
              "#fdca26"
             ],
             [
              1,
              "#f0f921"
             ]
            ],
            "type": "histogram2d"
           }
          ],
          "histogram2dcontour": [
           {
            "colorbar": {
             "outlinewidth": 0,
             "ticks": ""
            },
            "colorscale": [
             [
              0,
              "#0d0887"
             ],
             [
              0.1111111111111111,
              "#46039f"
             ],
             [
              0.2222222222222222,
              "#7201a8"
             ],
             [
              0.3333333333333333,
              "#9c179e"
             ],
             [
              0.4444444444444444,
              "#bd3786"
             ],
             [
              0.5555555555555556,
              "#d8576b"
             ],
             [
              0.6666666666666666,
              "#ed7953"
             ],
             [
              0.7777777777777778,
              "#fb9f3a"
             ],
             [
              0.8888888888888888,
              "#fdca26"
             ],
             [
              1,
              "#f0f921"
             ]
            ],
            "type": "histogram2dcontour"
           }
          ],
          "mesh3d": [
           {
            "colorbar": {
             "outlinewidth": 0,
             "ticks": ""
            },
            "type": "mesh3d"
           }
          ],
          "parcoords": [
           {
            "line": {
             "colorbar": {
              "outlinewidth": 0,
              "ticks": ""
             }
            },
            "type": "parcoords"
           }
          ],
          "pie": [
           {
            "automargin": true,
            "type": "pie"
           }
          ],
          "scatter": [
           {
            "marker": {
             "colorbar": {
              "outlinewidth": 0,
              "ticks": ""
             }
            },
            "type": "scatter"
           }
          ],
          "scatter3d": [
           {
            "line": {
             "colorbar": {
              "outlinewidth": 0,
              "ticks": ""
             }
            },
            "marker": {
             "colorbar": {
              "outlinewidth": 0,
              "ticks": ""
             }
            },
            "type": "scatter3d"
           }
          ],
          "scattercarpet": [
           {
            "marker": {
             "colorbar": {
              "outlinewidth": 0,
              "ticks": ""
             }
            },
            "type": "scattercarpet"
           }
          ],
          "scattergeo": [
           {
            "marker": {
             "colorbar": {
              "outlinewidth": 0,
              "ticks": ""
             }
            },
            "type": "scattergeo"
           }
          ],
          "scattergl": [
           {
            "marker": {
             "colorbar": {
              "outlinewidth": 0,
              "ticks": ""
             }
            },
            "type": "scattergl"
           }
          ],
          "scattermapbox": [
           {
            "marker": {
             "colorbar": {
              "outlinewidth": 0,
              "ticks": ""
             }
            },
            "type": "scattermapbox"
           }
          ],
          "scatterpolar": [
           {
            "marker": {
             "colorbar": {
              "outlinewidth": 0,
              "ticks": ""
             }
            },
            "type": "scatterpolar"
           }
          ],
          "scatterpolargl": [
           {
            "marker": {
             "colorbar": {
              "outlinewidth": 0,
              "ticks": ""
             }
            },
            "type": "scatterpolargl"
           }
          ],
          "scatterternary": [
           {
            "marker": {
             "colorbar": {
              "outlinewidth": 0,
              "ticks": ""
             }
            },
            "type": "scatterternary"
           }
          ],
          "surface": [
           {
            "colorbar": {
             "outlinewidth": 0,
             "ticks": ""
            },
            "colorscale": [
             [
              0,
              "#0d0887"
             ],
             [
              0.1111111111111111,
              "#46039f"
             ],
             [
              0.2222222222222222,
              "#7201a8"
             ],
             [
              0.3333333333333333,
              "#9c179e"
             ],
             [
              0.4444444444444444,
              "#bd3786"
             ],
             [
              0.5555555555555556,
              "#d8576b"
             ],
             [
              0.6666666666666666,
              "#ed7953"
             ],
             [
              0.7777777777777778,
              "#fb9f3a"
             ],
             [
              0.8888888888888888,
              "#fdca26"
             ],
             [
              1,
              "#f0f921"
             ]
            ],
            "type": "surface"
           }
          ],
          "table": [
           {
            "cells": {
             "fill": {
              "color": "#EBF0F8"
             },
             "line": {
              "color": "white"
             }
            },
            "header": {
             "fill": {
              "color": "#C8D4E3"
             },
             "line": {
              "color": "white"
             }
            },
            "type": "table"
           }
          ]
         },
         "layout": {
          "annotationdefaults": {
           "arrowcolor": "#2a3f5f",
           "arrowhead": 0,
           "arrowwidth": 1
          },
          "autotypenumbers": "strict",
          "coloraxis": {
           "colorbar": {
            "outlinewidth": 0,
            "ticks": ""
           }
          },
          "colorscale": {
           "diverging": [
            [
             0,
             "#8e0152"
            ],
            [
             0.1,
             "#c51b7d"
            ],
            [
             0.2,
             "#de77ae"
            ],
            [
             0.3,
             "#f1b6da"
            ],
            [
             0.4,
             "#fde0ef"
            ],
            [
             0.5,
             "#f7f7f7"
            ],
            [
             0.6,
             "#e6f5d0"
            ],
            [
             0.7,
             "#b8e186"
            ],
            [
             0.8,
             "#7fbc41"
            ],
            [
             0.9,
             "#4d9221"
            ],
            [
             1,
             "#276419"
            ]
           ],
           "sequential": [
            [
             0,
             "#0d0887"
            ],
            [
             0.1111111111111111,
             "#46039f"
            ],
            [
             0.2222222222222222,
             "#7201a8"
            ],
            [
             0.3333333333333333,
             "#9c179e"
            ],
            [
             0.4444444444444444,
             "#bd3786"
            ],
            [
             0.5555555555555556,
             "#d8576b"
            ],
            [
             0.6666666666666666,
             "#ed7953"
            ],
            [
             0.7777777777777778,
             "#fb9f3a"
            ],
            [
             0.8888888888888888,
             "#fdca26"
            ],
            [
             1,
             "#f0f921"
            ]
           ],
           "sequentialminus": [
            [
             0,
             "#0d0887"
            ],
            [
             0.1111111111111111,
             "#46039f"
            ],
            [
             0.2222222222222222,
             "#7201a8"
            ],
            [
             0.3333333333333333,
             "#9c179e"
            ],
            [
             0.4444444444444444,
             "#bd3786"
            ],
            [
             0.5555555555555556,
             "#d8576b"
            ],
            [
             0.6666666666666666,
             "#ed7953"
            ],
            [
             0.7777777777777778,
             "#fb9f3a"
            ],
            [
             0.8888888888888888,
             "#fdca26"
            ],
            [
             1,
             "#f0f921"
            ]
           ]
          },
          "colorway": [
           "#636efa",
           "#EF553B",
           "#00cc96",
           "#ab63fa",
           "#FFA15A",
           "#19d3f3",
           "#FF6692",
           "#B6E880",
           "#FF97FF",
           "#FECB52"
          ],
          "font": {
           "color": "#2a3f5f"
          },
          "geo": {
           "bgcolor": "white",
           "lakecolor": "white",
           "landcolor": "#E5ECF6",
           "showlakes": true,
           "showland": true,
           "subunitcolor": "white"
          },
          "hoverlabel": {
           "align": "left"
          },
          "hovermode": "closest",
          "mapbox": {
           "style": "light"
          },
          "paper_bgcolor": "white",
          "plot_bgcolor": "#E5ECF6",
          "polar": {
           "angularaxis": {
            "gridcolor": "white",
            "linecolor": "white",
            "ticks": ""
           },
           "bgcolor": "#E5ECF6",
           "radialaxis": {
            "gridcolor": "white",
            "linecolor": "white",
            "ticks": ""
           }
          },
          "scene": {
           "xaxis": {
            "backgroundcolor": "#E5ECF6",
            "gridcolor": "white",
            "gridwidth": 2,
            "linecolor": "white",
            "showbackground": true,
            "ticks": "",
            "zerolinecolor": "white"
           },
           "yaxis": {
            "backgroundcolor": "#E5ECF6",
            "gridcolor": "white",
            "gridwidth": 2,
            "linecolor": "white",
            "showbackground": true,
            "ticks": "",
            "zerolinecolor": "white"
           },
           "zaxis": {
            "backgroundcolor": "#E5ECF6",
            "gridcolor": "white",
            "gridwidth": 2,
            "linecolor": "white",
            "showbackground": true,
            "ticks": "",
            "zerolinecolor": "white"
           }
          },
          "shapedefaults": {
           "line": {
            "color": "#2a3f5f"
           }
          },
          "ternary": {
           "aaxis": {
            "gridcolor": "white",
            "linecolor": "white",
            "ticks": ""
           },
           "baxis": {
            "gridcolor": "white",
            "linecolor": "white",
            "ticks": ""
           },
           "bgcolor": "#E5ECF6",
           "caxis": {
            "gridcolor": "white",
            "linecolor": "white",
            "ticks": ""
           }
          },
          "title": {
           "x": 0.05
          },
          "xaxis": {
           "automargin": true,
           "gridcolor": "white",
           "linecolor": "white",
           "ticks": "",
           "title": {
            "standoff": 15
           },
           "zerolinecolor": "white",
           "zerolinewidth": 2
          },
          "yaxis": {
           "automargin": true,
           "gridcolor": "white",
           "linecolor": "white",
           "ticks": "",
           "title": {
            "standoff": 15
           },
           "zerolinecolor": "white",
           "zerolinewidth": 2
          }
         }
        },
        "title": {
         "text": "Rankings of Belgium"
        },
        "xaxis": {
         "anchor": "y",
         "domain": [
          0,
          1
         ],
         "title": {
          "text": "rank_date"
         }
        },
        "yaxis": {
         "anchor": "x",
         "autorange": "reversed",
         "domain": [
          0,
          1
         ],
         "title": {
          "text": "rank"
         }
        }
       }
      }
     },
     "metadata": {},
     "output_type": "display_data"
    }
   ],
   "source": [
    "fig = px.line(new_rankings[new_rankings['country_full'] == 'Brazil'], x='rank_date', y='rank', title='Rankings of Belgium')\n",
    "#reverse the y axis\n",
    "fig['layout']['yaxis']['autorange'] = \"reversed\"\n",
    "fig.show()\n"
   ]
  }
 ],
 "metadata": {
  "interpreter": {
   "hash": "a59f9fdc9d6e9f3dc8048ca9102760115e9f2281d6250c7f7ebbccc2210280f3"
  },
  "kernelspec": {
   "display_name": "Python 3.10.2 ('bams503')",
   "language": "python",
   "name": "python3"
  },
  "language_info": {
   "codemirror_mode": {
    "name": "ipython",
    "version": 3
   },
   "file_extension": ".py",
   "mimetype": "text/x-python",
   "name": "python",
   "nbconvert_exporter": "python",
   "pygments_lexer": "ipython3",
   "version": "3.9.7"
  },
  "orig_nbformat": 4
 },
 "nbformat": 4,
 "nbformat_minor": 2
}
