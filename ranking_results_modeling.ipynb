{
 "cells": [
  {
   "cell_type": "code",
   "execution_count": 38,
   "metadata": {},
   "outputs": [],
   "source": [
    "import pandas as pd\n",
    "import numpy as np\n",
    "import plotly as px\n",
    "import matplotlib.pyplot as plt"
   ]
  },
  {
   "cell_type": "code",
   "execution_count": 39,
   "metadata": {},
   "outputs": [],
   "source": [
    "rankings = pd.read_csv('data/fifa_ranking_full.csv')\n",
    "results = pd.read_csv('data/results.csv',index_col=1)"
   ]
  },
  {
   "cell_type": "code",
   "execution_count": 40,
   "metadata": {},
   "outputs": [
    {
     "data": {
      "text/html": [
       "<div>\n",
       "<style scoped>\n",
       "    .dataframe tbody tr th:only-of-type {\n",
       "        vertical-align: middle;\n",
       "    }\n",
       "\n",
       "    .dataframe tbody tr th {\n",
       "        vertical-align: top;\n",
       "    }\n",
       "\n",
       "    .dataframe thead th {\n",
       "        text-align: right;\n",
       "    }\n",
       "</style>\n",
       "<table border=\"1\" class=\"dataframe\">\n",
       "  <thead>\n",
       "    <tr style=\"text-align: right;\">\n",
       "      <th></th>\n",
       "      <th>home_team</th>\n",
       "      <th>date</th>\n",
       "      <th>away_team</th>\n",
       "      <th>home_score</th>\n",
       "      <th>away_score</th>\n",
       "      <th>tournament</th>\n",
       "      <th>city</th>\n",
       "      <th>country</th>\n",
       "      <th>neutral</th>\n",
       "    </tr>\n",
       "  </thead>\n",
       "  <tbody>\n",
       "    <tr>\n",
       "      <th>0</th>\n",
       "      <td>Scotland</td>\n",
       "      <td>1872-11-30</td>\n",
       "      <td>England</td>\n",
       "      <td>0</td>\n",
       "      <td>0</td>\n",
       "      <td>Friendly</td>\n",
       "      <td>Glasgow</td>\n",
       "      <td>Scotland</td>\n",
       "      <td>False</td>\n",
       "    </tr>\n",
       "    <tr>\n",
       "      <th>1</th>\n",
       "      <td>England</td>\n",
       "      <td>1873-03-08</td>\n",
       "      <td>Scotland</td>\n",
       "      <td>4</td>\n",
       "      <td>2</td>\n",
       "      <td>Friendly</td>\n",
       "      <td>London</td>\n",
       "      <td>England</td>\n",
       "      <td>False</td>\n",
       "    </tr>\n",
       "    <tr>\n",
       "      <th>2</th>\n",
       "      <td>Scotland</td>\n",
       "      <td>1874-03-07</td>\n",
       "      <td>England</td>\n",
       "      <td>2</td>\n",
       "      <td>1</td>\n",
       "      <td>Friendly</td>\n",
       "      <td>Glasgow</td>\n",
       "      <td>Scotland</td>\n",
       "      <td>False</td>\n",
       "    </tr>\n",
       "    <tr>\n",
       "      <th>3</th>\n",
       "      <td>England</td>\n",
       "      <td>1875-03-06</td>\n",
       "      <td>Scotland</td>\n",
       "      <td>2</td>\n",
       "      <td>2</td>\n",
       "      <td>Friendly</td>\n",
       "      <td>London</td>\n",
       "      <td>England</td>\n",
       "      <td>False</td>\n",
       "    </tr>\n",
       "    <tr>\n",
       "      <th>4</th>\n",
       "      <td>Scotland</td>\n",
       "      <td>1876-03-04</td>\n",
       "      <td>England</td>\n",
       "      <td>3</td>\n",
       "      <td>0</td>\n",
       "      <td>Friendly</td>\n",
       "      <td>Glasgow</td>\n",
       "      <td>Scotland</td>\n",
       "      <td>False</td>\n",
       "    </tr>\n",
       "  </tbody>\n",
       "</table>\n",
       "</div>"
      ],
      "text/plain": [
       "  home_team        date away_team  home_score  away_score tournament     city  \\\n",
       "0  Scotland  1872-11-30   England           0           0   Friendly  Glasgow   \n",
       "1   England  1873-03-08  Scotland           4           2   Friendly   London   \n",
       "2  Scotland  1874-03-07   England           2           1   Friendly  Glasgow   \n",
       "3   England  1875-03-06  Scotland           2           2   Friendly   London   \n",
       "4  Scotland  1876-03-04   England           3           0   Friendly  Glasgow   \n",
       "\n",
       "    country  neutral  \n",
       "0  Scotland    False  \n",
       "1   England    False  \n",
       "2  Scotland    False  \n",
       "3   England    False  \n",
       "4  Scotland    False  "
      ]
     },
     "execution_count": 40,
     "metadata": {},
     "output_type": "execute_result"
    }
   ],
   "source": [
    "results.reset_index(inplace=True)\n",
    "results.head()"
   ]
  },
  {
   "cell_type": "code",
   "execution_count": 41,
   "metadata": {},
   "outputs": [
    {
     "data": {
      "text/html": [
       "<div>\n",
       "<style scoped>\n",
       "    .dataframe tbody tr th:only-of-type {\n",
       "        vertical-align: middle;\n",
       "    }\n",
       "\n",
       "    .dataframe tbody tr th {\n",
       "        vertical-align: top;\n",
       "    }\n",
       "\n",
       "    .dataframe thead th {\n",
       "        text-align: right;\n",
       "    }\n",
       "</style>\n",
       "<table border=\"1\" class=\"dataframe\">\n",
       "  <thead>\n",
       "    <tr style=\"text-align: right;\">\n",
       "      <th></th>\n",
       "      <th>year</th>\n",
       "      <th>month</th>\n",
       "      <th>country_full</th>\n",
       "      <th>rank</th>\n",
       "      <th>rank_date</th>\n",
       "    </tr>\n",
       "  </thead>\n",
       "  <tbody>\n",
       "    <tr>\n",
       "      <th>0</th>\n",
       "      <td>1992</td>\n",
       "      <td>12</td>\n",
       "      <td>Germany</td>\n",
       "      <td>1</td>\n",
       "      <td>1992-12-31</td>\n",
       "    </tr>\n",
       "    <tr>\n",
       "      <th>1</th>\n",
       "      <td>1992</td>\n",
       "      <td>12</td>\n",
       "      <td>Italy</td>\n",
       "      <td>2</td>\n",
       "      <td>1992-12-31</td>\n",
       "    </tr>\n",
       "    <tr>\n",
       "      <th>2</th>\n",
       "      <td>1992</td>\n",
       "      <td>12</td>\n",
       "      <td>Brazil</td>\n",
       "      <td>3</td>\n",
       "      <td>1992-12-31</td>\n",
       "    </tr>\n",
       "    <tr>\n",
       "      <th>3</th>\n",
       "      <td>1992</td>\n",
       "      <td>12</td>\n",
       "      <td>Sweden</td>\n",
       "      <td>4</td>\n",
       "      <td>1992-12-31</td>\n",
       "    </tr>\n",
       "    <tr>\n",
       "      <th>4</th>\n",
       "      <td>1992</td>\n",
       "      <td>12</td>\n",
       "      <td>England</td>\n",
       "      <td>5</td>\n",
       "      <td>1992-12-31</td>\n",
       "    </tr>\n",
       "  </tbody>\n",
       "</table>\n",
       "</div>"
      ],
      "text/plain": [
       "   year  month country_full  rank   rank_date\n",
       "0  1992     12      Germany     1  1992-12-31\n",
       "1  1992     12        Italy     2  1992-12-31\n",
       "2  1992     12       Brazil     3  1992-12-31\n",
       "3  1992     12       Sweden     4  1992-12-31\n",
       "4  1992     12      England     5  1992-12-31"
      ]
     },
     "execution_count": 41,
     "metadata": {},
     "output_type": "execute_result"
    }
   ],
   "source": [
    "rankings = rankings[['year','month','country_full','rank','rank_date']]\n",
    "rankings.head()"
   ]
  },
  {
   "cell_type": "code",
   "execution_count": 42,
   "metadata": {},
   "outputs": [],
   "source": [
    "#create year column from rank_date\n",
    "rankings['year'] = rankings['rank_date'].str[:4]\n",
    "#create month column from rank_date\n",
    "rankings['month'] = rankings['rank_date'].str[5:7]\n",
    "\n",
    "#create year column in results from date column\n",
    "results['year'] = results['date'].str[:4]\n",
    "#create month column in results from date column\n",
    "results['month'] = results['date'].str[5:7]"
   ]
  },
  {
   "cell_type": "code",
   "execution_count": 43,
   "metadata": {},
   "outputs": [],
   "source": [
    "#join rankings and results on year and month and home_team and away_team\n",
    "df = pd.merge(rankings,results,left_on=['year','month','country_full'],right_on=['year','month','home_team'],how='inner')\n",
    "\n",
    "df = pd.merge(rankings,df,left_on=['year','month','country_full'],right_on=['year','month','away_team'],how='inner')"
   ]
  },
  {
   "cell_type": "code",
   "execution_count": 44,
   "metadata": {},
   "outputs": [
    {
     "data": {
      "text/html": [
       "<div>\n",
       "<style scoped>\n",
       "    .dataframe tbody tr th:only-of-type {\n",
       "        vertical-align: middle;\n",
       "    }\n",
       "\n",
       "    .dataframe tbody tr th {\n",
       "        vertical-align: top;\n",
       "    }\n",
       "\n",
       "    .dataframe thead th {\n",
       "        text-align: right;\n",
       "    }\n",
       "</style>\n",
       "<table border=\"1\" class=\"dataframe\">\n",
       "  <thead>\n",
       "    <tr style=\"text-align: right;\">\n",
       "      <th></th>\n",
       "      <th>year</th>\n",
       "      <th>month</th>\n",
       "      <th>country_full_x</th>\n",
       "      <th>rank_x</th>\n",
       "      <th>rank_date_x</th>\n",
       "      <th>country_full_y</th>\n",
       "      <th>rank_y</th>\n",
       "      <th>rank_date_y</th>\n",
       "      <th>home_team</th>\n",
       "      <th>date</th>\n",
       "      <th>away_team</th>\n",
       "      <th>home_score</th>\n",
       "      <th>away_score</th>\n",
       "      <th>tournament</th>\n",
       "      <th>city</th>\n",
       "      <th>country</th>\n",
       "      <th>neutral</th>\n",
       "    </tr>\n",
       "  </thead>\n",
       "  <tbody>\n",
       "    <tr>\n",
       "      <th>0</th>\n",
       "      <td>1992</td>\n",
       "      <td>12</td>\n",
       "      <td>Germany</td>\n",
       "      <td>1</td>\n",
       "      <td>1992-12-31</td>\n",
       "      <td>Brazil</td>\n",
       "      <td>3</td>\n",
       "      <td>1992-12-31</td>\n",
       "      <td>Brazil</td>\n",
       "      <td>1992-12-16</td>\n",
       "      <td>Germany</td>\n",
       "      <td>3</td>\n",
       "      <td>1</td>\n",
       "      <td>Friendly</td>\n",
       "      <td>Porto Alegre</td>\n",
       "      <td>Brazil</td>\n",
       "      <td>False</td>\n",
       "    </tr>\n",
       "    <tr>\n",
       "      <th>1</th>\n",
       "      <td>1992</td>\n",
       "      <td>12</td>\n",
       "      <td>Germany</td>\n",
       "      <td>1</td>\n",
       "      <td>1992-12-31</td>\n",
       "      <td>Uruguay</td>\n",
       "      <td>16</td>\n",
       "      <td>1992-12-31</td>\n",
       "      <td>Uruguay</td>\n",
       "      <td>1992-12-20</td>\n",
       "      <td>Germany</td>\n",
       "      <td>1</td>\n",
       "      <td>4</td>\n",
       "      <td>Friendly</td>\n",
       "      <td>Montevideo</td>\n",
       "      <td>Uruguay</td>\n",
       "      <td>False</td>\n",
       "    </tr>\n",
       "    <tr>\n",
       "      <th>2</th>\n",
       "      <td>1992</td>\n",
       "      <td>12</td>\n",
       "      <td>Italy</td>\n",
       "      <td>2</td>\n",
       "      <td>1992-12-31</td>\n",
       "      <td>Malta</td>\n",
       "      <td>73</td>\n",
       "      <td>1992-12-31</td>\n",
       "      <td>Malta</td>\n",
       "      <td>1992-12-19</td>\n",
       "      <td>Italy</td>\n",
       "      <td>1</td>\n",
       "      <td>2</td>\n",
       "      <td>FIFA World Cup qualification</td>\n",
       "      <td>Attard</td>\n",
       "      <td>Malta</td>\n",
       "      <td>False</td>\n",
       "    </tr>\n",
       "    <tr>\n",
       "      <th>3</th>\n",
       "      <td>1992</td>\n",
       "      <td>12</td>\n",
       "      <td>Netherlands</td>\n",
       "      <td>7</td>\n",
       "      <td>1992-12-31</td>\n",
       "      <td>Turkey</td>\n",
       "      <td>42</td>\n",
       "      <td>1992-12-31</td>\n",
       "      <td>Turkey</td>\n",
       "      <td>1992-12-16</td>\n",
       "      <td>Netherlands</td>\n",
       "      <td>1</td>\n",
       "      <td>3</td>\n",
       "      <td>FIFA World Cup qualification</td>\n",
       "      <td>Istanbul</td>\n",
       "      <td>Turkey</td>\n",
       "      <td>False</td>\n",
       "    </tr>\n",
       "    <tr>\n",
       "      <th>4</th>\n",
       "      <td>1992</td>\n",
       "      <td>12</td>\n",
       "      <td>Nigeria</td>\n",
       "      <td>13</td>\n",
       "      <td>1992-12-31</td>\n",
       "      <td>Congo</td>\n",
       "      <td>90</td>\n",
       "      <td>1992-12-31</td>\n",
       "      <td>Congo</td>\n",
       "      <td>1992-12-20</td>\n",
       "      <td>Nigeria</td>\n",
       "      <td>0</td>\n",
       "      <td>1</td>\n",
       "      <td>FIFA World Cup qualification</td>\n",
       "      <td>Pointe-Noire</td>\n",
       "      <td>Congo</td>\n",
       "      <td>False</td>\n",
       "    </tr>\n",
       "  </tbody>\n",
       "</table>\n",
       "</div>"
      ],
      "text/plain": [
       "   year month country_full_x  rank_x rank_date_x country_full_y  rank_y  \\\n",
       "0  1992    12        Germany       1  1992-12-31         Brazil       3   \n",
       "1  1992    12        Germany       1  1992-12-31        Uruguay      16   \n",
       "2  1992    12          Italy       2  1992-12-31          Malta      73   \n",
       "3  1992    12    Netherlands       7  1992-12-31         Turkey      42   \n",
       "4  1992    12        Nigeria      13  1992-12-31          Congo      90   \n",
       "\n",
       "  rank_date_y home_team        date    away_team  home_score  away_score  \\\n",
       "0  1992-12-31    Brazil  1992-12-16      Germany           3           1   \n",
       "1  1992-12-31   Uruguay  1992-12-20      Germany           1           4   \n",
       "2  1992-12-31     Malta  1992-12-19        Italy           1           2   \n",
       "3  1992-12-31    Turkey  1992-12-16  Netherlands           1           3   \n",
       "4  1992-12-31     Congo  1992-12-20      Nigeria           0           1   \n",
       "\n",
       "                     tournament          city  country  neutral  \n",
       "0                      Friendly  Porto Alegre   Brazil    False  \n",
       "1                      Friendly    Montevideo  Uruguay    False  \n",
       "2  FIFA World Cup qualification        Attard    Malta    False  \n",
       "3  FIFA World Cup qualification      Istanbul   Turkey    False  \n",
       "4  FIFA World Cup qualification  Pointe-Noire    Congo    False  "
      ]
     },
     "execution_count": 44,
     "metadata": {},
     "output_type": "execute_result"
    }
   ],
   "source": [
    "df.head()"
   ]
  },
  {
   "cell_type": "code",
   "execution_count": 45,
   "metadata": {},
   "outputs": [
    {
     "data": {
      "text/html": [
       "<div>\n",
       "<style scoped>\n",
       "    .dataframe tbody tr th:only-of-type {\n",
       "        vertical-align: middle;\n",
       "    }\n",
       "\n",
       "    .dataframe tbody tr th {\n",
       "        vertical-align: top;\n",
       "    }\n",
       "\n",
       "    .dataframe thead th {\n",
       "        text-align: right;\n",
       "    }\n",
       "</style>\n",
       "<table border=\"1\" class=\"dataframe\">\n",
       "  <thead>\n",
       "    <tr style=\"text-align: right;\">\n",
       "      <th></th>\n",
       "      <th>year</th>\n",
       "      <th>month</th>\n",
       "      <th>home_team</th>\n",
       "      <th>away_team</th>\n",
       "      <th>home_score</th>\n",
       "      <th>away_score</th>\n",
       "      <th>away_rank</th>\n",
       "      <th>home_rank</th>\n",
       "      <th>date</th>\n",
       "      <th>country</th>\n",
       "      <th>tournament</th>\n",
       "      <th>neutral</th>\n",
       "    </tr>\n",
       "  </thead>\n",
       "  <tbody>\n",
       "    <tr>\n",
       "      <th>0</th>\n",
       "      <td>1992</td>\n",
       "      <td>12</td>\n",
       "      <td>Brazil</td>\n",
       "      <td>Germany</td>\n",
       "      <td>3</td>\n",
       "      <td>1</td>\n",
       "      <td>1</td>\n",
       "      <td>3</td>\n",
       "      <td>1992-12-16</td>\n",
       "      <td>Brazil</td>\n",
       "      <td>Friendly</td>\n",
       "      <td>False</td>\n",
       "    </tr>\n",
       "    <tr>\n",
       "      <th>1</th>\n",
       "      <td>1992</td>\n",
       "      <td>12</td>\n",
       "      <td>Uruguay</td>\n",
       "      <td>Germany</td>\n",
       "      <td>1</td>\n",
       "      <td>4</td>\n",
       "      <td>1</td>\n",
       "      <td>16</td>\n",
       "      <td>1992-12-20</td>\n",
       "      <td>Uruguay</td>\n",
       "      <td>Friendly</td>\n",
       "      <td>False</td>\n",
       "    </tr>\n",
       "    <tr>\n",
       "      <th>2</th>\n",
       "      <td>1992</td>\n",
       "      <td>12</td>\n",
       "      <td>Malta</td>\n",
       "      <td>Italy</td>\n",
       "      <td>1</td>\n",
       "      <td>2</td>\n",
       "      <td>2</td>\n",
       "      <td>73</td>\n",
       "      <td>1992-12-19</td>\n",
       "      <td>Malta</td>\n",
       "      <td>FIFA World Cup qualification</td>\n",
       "      <td>False</td>\n",
       "    </tr>\n",
       "    <tr>\n",
       "      <th>3</th>\n",
       "      <td>1992</td>\n",
       "      <td>12</td>\n",
       "      <td>Turkey</td>\n",
       "      <td>Netherlands</td>\n",
       "      <td>1</td>\n",
       "      <td>3</td>\n",
       "      <td>7</td>\n",
       "      <td>42</td>\n",
       "      <td>1992-12-16</td>\n",
       "      <td>Turkey</td>\n",
       "      <td>FIFA World Cup qualification</td>\n",
       "      <td>False</td>\n",
       "    </tr>\n",
       "    <tr>\n",
       "      <th>4</th>\n",
       "      <td>1992</td>\n",
       "      <td>12</td>\n",
       "      <td>Congo</td>\n",
       "      <td>Nigeria</td>\n",
       "      <td>0</td>\n",
       "      <td>1</td>\n",
       "      <td>13</td>\n",
       "      <td>90</td>\n",
       "      <td>1992-12-20</td>\n",
       "      <td>Congo</td>\n",
       "      <td>FIFA World Cup qualification</td>\n",
       "      <td>False</td>\n",
       "    </tr>\n",
       "    <tr>\n",
       "      <th>...</th>\n",
       "      <td>...</td>\n",
       "      <td>...</td>\n",
       "      <td>...</td>\n",
       "      <td>...</td>\n",
       "      <td>...</td>\n",
       "      <td>...</td>\n",
       "      <td>...</td>\n",
       "      <td>...</td>\n",
       "      <td>...</td>\n",
       "      <td>...</td>\n",
       "      <td>...</td>\n",
       "      <td>...</td>\n",
       "    </tr>\n",
       "    <tr>\n",
       "      <th>21104</th>\n",
       "      <td>2021</td>\n",
       "      <td>12</td>\n",
       "      <td>Jordan</td>\n",
       "      <td>Palestine</td>\n",
       "      <td>5</td>\n",
       "      <td>1</td>\n",
       "      <td>104</td>\n",
       "      <td>95</td>\n",
       "      <td>2021-12-07</td>\n",
       "      <td>Qatar</td>\n",
       "      <td>Arab Cup</td>\n",
       "      <td>True</td>\n",
       "    </tr>\n",
       "    <tr>\n",
       "      <th>21105</th>\n",
       "      <td>2021</td>\n",
       "      <td>12</td>\n",
       "      <td>Algeria</td>\n",
       "      <td>Sudan</td>\n",
       "      <td>4</td>\n",
       "      <td>0</td>\n",
       "      <td>123</td>\n",
       "      <td>33</td>\n",
       "      <td>2021-12-01</td>\n",
       "      <td>Qatar</td>\n",
       "      <td>Arab Cup</td>\n",
       "      <td>True</td>\n",
       "    </tr>\n",
       "    <tr>\n",
       "      <th>21106</th>\n",
       "      <td>2021</td>\n",
       "      <td>12</td>\n",
       "      <td>Lebanon</td>\n",
       "      <td>Sudan</td>\n",
       "      <td>1</td>\n",
       "      <td>0</td>\n",
       "      <td>123</td>\n",
       "      <td>93</td>\n",
       "      <td>2021-12-07</td>\n",
       "      <td>Qatar</td>\n",
       "      <td>Arab Cup</td>\n",
       "      <td>True</td>\n",
       "    </tr>\n",
       "    <tr>\n",
       "      <th>21107</th>\n",
       "      <td>2021</td>\n",
       "      <td>12</td>\n",
       "      <td>Malawi</td>\n",
       "      <td>Comoros</td>\n",
       "      <td>2</td>\n",
       "      <td>1</td>\n",
       "      <td>131</td>\n",
       "      <td>115</td>\n",
       "      <td>2021-12-31</td>\n",
       "      <td>Saudi Arabia</td>\n",
       "      <td>Friendly</td>\n",
       "      <td>True</td>\n",
       "    </tr>\n",
       "    <tr>\n",
       "      <th>21108</th>\n",
       "      <td>2021</td>\n",
       "      <td>12</td>\n",
       "      <td>Sudan</td>\n",
       "      <td>Ethiopia</td>\n",
       "      <td>2</td>\n",
       "      <td>3</td>\n",
       "      <td>140</td>\n",
       "      <td>123</td>\n",
       "      <td>2021-12-30</td>\n",
       "      <td>Cameroon</td>\n",
       "      <td>Friendly</td>\n",
       "      <td>True</td>\n",
       "    </tr>\n",
       "  </tbody>\n",
       "</table>\n",
       "<p>21109 rows × 12 columns</p>\n",
       "</div>"
      ],
      "text/plain": [
       "       year month home_team    away_team  home_score  away_score  away_rank  \\\n",
       "0      1992    12    Brazil      Germany           3           1          1   \n",
       "1      1992    12   Uruguay      Germany           1           4          1   \n",
       "2      1992    12     Malta        Italy           1           2          2   \n",
       "3      1992    12    Turkey  Netherlands           1           3          7   \n",
       "4      1992    12     Congo      Nigeria           0           1         13   \n",
       "...     ...   ...       ...          ...         ...         ...        ...   \n",
       "21104  2021    12    Jordan    Palestine           5           1        104   \n",
       "21105  2021    12   Algeria        Sudan           4           0        123   \n",
       "21106  2021    12   Lebanon        Sudan           1           0        123   \n",
       "21107  2021    12    Malawi      Comoros           2           1        131   \n",
       "21108  2021    12     Sudan     Ethiopia           2           3        140   \n",
       "\n",
       "       home_rank        date       country                    tournament  \\\n",
       "0              3  1992-12-16        Brazil                      Friendly   \n",
       "1             16  1992-12-20       Uruguay                      Friendly   \n",
       "2             73  1992-12-19         Malta  FIFA World Cup qualification   \n",
       "3             42  1992-12-16        Turkey  FIFA World Cup qualification   \n",
       "4             90  1992-12-20         Congo  FIFA World Cup qualification   \n",
       "...          ...         ...           ...                           ...   \n",
       "21104         95  2021-12-07         Qatar                      Arab Cup   \n",
       "21105         33  2021-12-01         Qatar                      Arab Cup   \n",
       "21106         93  2021-12-07         Qatar                      Arab Cup   \n",
       "21107        115  2021-12-31  Saudi Arabia                      Friendly   \n",
       "21108        123  2021-12-30      Cameroon                      Friendly   \n",
       "\n",
       "       neutral  \n",
       "0        False  \n",
       "1        False  \n",
       "2        False  \n",
       "3        False  \n",
       "4        False  \n",
       "...        ...  \n",
       "21104     True  \n",
       "21105     True  \n",
       "21106     True  \n",
       "21107     True  \n",
       "21108     True  \n",
       "\n",
       "[21109 rows x 12 columns]"
      ]
     },
     "execution_count": 45,
     "metadata": {},
     "output_type": "execute_result"
    }
   ],
   "source": [
    "df = df[['year','month','home_team','away_team','home_score','away_score','rank_x','rank_y','date','country','tournament','neutral']]\n",
    "df.columns = ['year','month','home_team','away_team','home_score','away_score','away_rank','home_rank','date','country','tournament','neutral']\n",
    "df"
   ]
  },
  {
   "cell_type": "code",
   "execution_count": 46,
   "metadata": {},
   "outputs": [
    {
     "name": "stdout",
     "output_type": "stream",
     "text": [
      "AxesSubplot(0.125,0.125;0.775x0.755)\n"
     ]
    },
    {
     "data": {
      "image/png": "[encoded data removed]",
      "text/plain": [
       "<Figure size 432x288 with 1 Axes>"
      ]
     },
     "metadata": {
      "needs_background": "light"
     },
     "output_type": "display_data"
    }
   ],
   "source": [
    "#fig, axs = plt.subplots(2,2,figsize=(15,15))\n",
    "#axs[0,0]\n",
    "#plot  hist of home_score for home_rank between 1 and 10\n",
    "print(df.home_score[df.home_rank.between(1,5)].hist(bins=15))"
   ]
  },
  {
   "cell_type": "code",
   "execution_count": 47,
   "metadata": {},
   "outputs": [
    {
     "name": "stdout",
     "output_type": "stream",
     "text": [
      "AxesSubplot(0.125,0.125;0.775x0.755)\n"
     ]
    },
    {
     "data": {
      "image/png": "[encoded data removed]",
      "text/plain": [
       "<Figure size 432x288 with 1 Axes>"
      ]
     },
     "metadata": {
      "needs_background": "light"
     },
     "output_type": "display_data"
    }
   ],
   "source": [
    "\n",
    "print(df.away_score[df.away_rank.between(20,30)].hist(bins=15))\n"
   ]
  },
  {
   "cell_type": "code",
   "execution_count": 48,
   "metadata": {},
   "outputs": [
    {
     "name": "stdout",
     "output_type": "stream",
     "text": [
      "AxesSubplot(0.125,0.125;0.775x0.755)\n"
     ]
    },
    {
     "data": {
      "image/png": "[encoded data removed]",
      "text/plain": [
       "<Figure size 432x288 with 1 Axes>"
      ]
     },
     "metadata": {
      "needs_background": "light"
     },
     "output_type": "display_data"
    }
   ],
   "source": [
    "\n",
    "print(df.away_score[df.away_rank.between(20,30)].hist(bins=15))\n"
   ]
  },
  {
   "cell_type": "code",
   "execution_count": 49,
   "metadata": {},
   "outputs": [
    {
     "name": "stdout",
     "output_type": "stream",
     "text": [
      "AxesSubplot(0.125,0.125;0.775x0.755)\n"
     ]
    },
    {
     "data": {
      "image/png": "[encoded data removed]",
      "text/plain": [
       "<Figure size 432x288 with 1 Axes>"
      ]
     },
     "metadata": {
      "needs_background": "light"
     },
     "output_type": "display_data"
    }
   ],
   "source": [
    "\n",
    "print(df.home_score[df.home_rank.between(20,30)].hist(bins=15))\n"
   ]
  },
  {
   "cell_type": "code",
   "execution_count": 50,
   "metadata": {},
   "outputs": [
    {
     "name": "stdout",
     "output_type": "stream",
     "text": [
      "AxesSubplot(0.125,0.125;0.775x0.755)\n"
     ]
    },
    {
     "data": {
      "image/png": "[encoded data removed]",
      "text/plain": [
       "<Figure size 432x288 with 1 Axes>"
      ]
     },
     "metadata": {
      "needs_background": "light"
     },
     "output_type": "display_data"
    }
   ],
   "source": [
    "\n",
    "print(df.home_score[df.home_rank.between(1,5) & df.away_rank.between(30,50)].hist(bins=15))\n"
   ]
  },
  {
   "cell_type": "code",
   "execution_count": 51,
   "metadata": {},
   "outputs": [
    {
     "name": "stdout",
     "output_type": "stream",
     "text": [
      "AxesSubplot(0.125,0.125;0.775x0.755)\n"
     ]
    },
    {
     "data": {
      "image/png": "[encoded data removed]",
      "text/plain": [
       "<Figure size 432x288 with 1 Axes>"
      ]
     },
     "metadata": {
      "needs_background": "light"
     },
     "output_type": "display_data"
    }
   ],
   "source": [
    "\n",
    "print(df.away_score[df.away_rank.between(30,50) & df.home_rank.between(1,5)].hist(bins=15))\n",
    "\n"
   ]
  }
 ],
 "metadata": {
  "interpreter": {
   "hash": "f26333649674f079eee36943c34c754c48500c0c92afa7151671dea441727e40"
  },
  "kernelspec": {
   "display_name": "Python 3.9.7 ('BAIT509')",
   "language": "python",
   "name": "python3"
  },
  "language_info": {
   "codemirror_mode": {
    "name": "ipython",
    "version": 3
   },
   "file_extension": ".py",
   "mimetype": "text/x-python",
   "name": "python",
   "nbconvert_exporter": "python",
   "pygments_lexer": "ipython3",
   "version": "3.9.7"
  },
  "orig_nbformat": 4
 },
 "nbformat": 4,
 "nbformat_minor": 2
}
